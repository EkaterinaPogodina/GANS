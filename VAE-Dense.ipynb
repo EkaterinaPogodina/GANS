{
 "cells": [
  {
   "cell_type": "code",
   "execution_count": 8,
   "metadata": {},
   "outputs": [
    {
     "name": "stdout",
     "output_type": "stream",
     "text": [
      "['/Users/ekaterinapogodina/repo/GANS', '/usr/local/Cellar/python/3.7.3/Frameworks/Python.framework/Versions/3.7/lib/python37.zip', '/usr/local/Cellar/python/3.7.3/Frameworks/Python.framework/Versions/3.7/lib/python3.7', '/usr/local/Cellar/python/3.7.3/Frameworks/Python.framework/Versions/3.7/lib/python3.7/lib-dynload', '', '/Users/ekaterinapogodina/venv3.7/lib/python3.7/site-packages', '/Users/ekaterinapogodina/venv3.7/lib/python3.7/site-packages/IPython/extensions', '/Users/ekaterinapogodina/.ipython']\n"
     ]
    }
   ],
   "source": [
    "import sys\n",
    "print(sys.path)"
   ]
  },
  {
   "cell_type": "code",
   "execution_count": 22,
   "metadata": {},
   "outputs": [],
   "source": [
    "from pandas_datareader import data \n",
    "apple = data.DataReader('AFI.AX', 'yahoo', start='1/1/2010', end= '1/10/2015')\n",
    "apple['Returns'] = apple['Adj Close'].pct_change()\n",
    "mu = apple['Returns'].mean()\n",
    "std = apple['Returns'].std()\n",
    "\n",
    "def sample_data(n_samples=50000, seq_length=10):\n",
    "\n",
    "    vectors = []\n",
    "\n",
    "    for i in range(n_samples):\n",
    "        daily_returns=np.random.normal(mu, std, seq_length)\n",
    "        vectors.append(daily_returns)\n",
    "    \n",
    "    return np.asarray(vectors)\n",
    "\n",
    "samples = sample_data()"
   ]
  },
  {
   "cell_type": "code",
   "execution_count": 30,
   "metadata": {},
   "outputs": [
    {
     "data": {
      "text/plain": [
       "(784,)"
      ]
     },
     "execution_count": 30,
     "metadata": {},
     "output_type": "execute_result"
    }
   ],
   "source": [
    "x_train[0].shape"
   ]
  },
  {
   "cell_type": "code",
   "execution_count": 31,
   "metadata": {},
   "outputs": [
    {
     "data": {
      "text/plain": [
       "(50000, 10)"
      ]
     },
     "execution_count": 31,
     "metadata": {},
     "output_type": "execute_result"
    }
   ],
   "source": [
    "samples.shape"
   ]
  },
  {
   "cell_type": "code",
   "execution_count": 68,
   "metadata": {},
   "outputs": [
    {
     "name": "stdout",
     "output_type": "stream",
     "text": [
      "Model: \"encoder\"\n",
      "__________________________________________________________________________________________________\n",
      "Layer (type)                    Output Shape         Param #     Connected to                     \n",
      "==================================================================================================\n",
      "encoder_input (InputLayer)      (None, 20)           0                                            \n",
      "__________________________________________________________________________________________________\n",
      "dense_15 (Dense)                (None, 16)           336         encoder_input[0][0]              \n",
      "__________________________________________________________________________________________________\n",
      "z_mean (Dense)                  (None, 2)            34          dense_15[0][0]                   \n",
      "__________________________________________________________________________________________________\n",
      "z_log_var (Dense)               (None, 2)            34          dense_15[0][0]                   \n",
      "__________________________________________________________________________________________________\n",
      "z (Lambda)                      (None, 2)            0           z_mean[0][0]                     \n",
      "                                                                 z_log_var[0][0]                  \n",
      "==================================================================================================\n",
      "Total params: 404\n",
      "Trainable params: 404\n",
      "Non-trainable params: 0\n",
      "__________________________________________________________________________________________________\n",
      "Model: \"decoder\"\n",
      "_________________________________________________________________\n",
      "Layer (type)                 Output Shape              Param #   \n",
      "=================================================================\n",
      "z_sampling (InputLayer)      (None, 2)                 0         \n",
      "_________________________________________________________________\n",
      "dense_16 (Dense)             (None, 16)                48        \n",
      "_________________________________________________________________\n",
      "dense_17 (Dense)             (None, 20)                340       \n",
      "=================================================================\n",
      "Total params: 388\n",
      "Trainable params: 388\n",
      "Non-trainable params: 0\n",
      "_________________________________________________________________\n"
     ]
    }
   ],
   "source": [
    "from __future__ import absolute_import\n",
    "from __future__ import division\n",
    "from __future__ import print_function\n",
    "\n",
    "from keras.layers import Lambda, Input, Dense\n",
    "from keras.models import Model\n",
    "from keras.datasets import mnist\n",
    "from keras.losses import mse, binary_crossentropy\n",
    "from keras.utils import plot_model\n",
    "from keras import backend as K\n",
    "\n",
    "import numpy as np\n",
    "import matplotlib.pyplot as plt\n",
    "import argparse\n",
    "import os\n",
    "\n",
    "\n",
    "# reparameterization trick\n",
    "# instead of sampling from Q(z|X), sample eps = N(0,I)\n",
    "# z = z_mean + sqrt(var)*eps\n",
    "def sampling(args):\n",
    "    \"\"\"Reparameterization trick by sampling fr an isotropic unit Gaussian.\n",
    "\n",
    "    # Arguments\n",
    "        args (tensor): mean and log of variance of Q(z|X)\n",
    "\n",
    "    # Returns\n",
    "        z (tensor): sampled latent vector\n",
    "    \"\"\"\n",
    "\n",
    "    z_mean, z_log_var = args\n",
    "    batch = K.shape(z_mean)[0]\n",
    "    dim = K.int_shape(z_mean)[1]\n",
    "    # by default, random_normal has mean=0 and std=1.0\n",
    "    epsilon = K.random_normal(shape=(batch, dim))\n",
    "    return z_mean + K.exp(0.5 * z_log_var) * epsilon\n",
    "\n",
    "\n",
    "# MNIST dataset\n",
    "\n",
    "x_train = sample_data(seq_length=20)\n",
    "original_dim = x_train.shape[1]\n",
    "\n",
    "# network parameters\n",
    "input_shape = (original_dim, )\n",
    "intermediate_dim = 16\n",
    "batch_size = 128\n",
    "latent_dim = 2\n",
    "epochs = 50\n",
    "\n",
    "# VAE model = encoder + decoder\n",
    "# build encoder model\n",
    "inputs = Input(shape=input_shape, name='encoder_input')\n",
    "x = Dense(intermediate_dim, activation='relu')(inputs)\n",
    "z_mean = Dense(latent_dim, name='z_mean')(x)\n",
    "z_log_var = Dense(latent_dim, name='z_log_var')(x)\n",
    "\n",
    "# use reparameterization trick to push the sampling out as input\n",
    "# note that \"output_shape\" isn't necessary with the TensorFlow backend\n",
    "z = Lambda(sampling, output_shape=(latent_dim,), name='z')([z_mean, z_log_var])\n",
    "\n",
    "# instantiate encoder model\n",
    "encoder = Model(inputs, [z_mean, z_log_var, z], name='encoder')\n",
    "encoder.summary()\n",
    "#plot_model(encoder, to_file='vae_mlp_encoder.png', show_shapes=True)\n",
    "\n",
    "# build decoder model\n",
    "latent_inputs = Input(shape=(latent_dim,), name='z_sampling')\n",
    "x = Dense(intermediate_dim, activation='relu')(latent_inputs)\n",
    "outputs = Dense(original_dim, activation='sigmoid')(x)\n",
    "\n",
    "# instantiate decoder model\n",
    "decoder = Model(latent_inputs, outputs, name='decoder')\n",
    "decoder.summary()\n",
    "#plot_model(decoder, to_file='vae_mlp_decoder.png', show_shapes=True)\n",
    "\n",
    "# instantiate VAE model\n",
    "outputs = decoder(encoder(inputs)[2])\n",
    "vae = Model(inputs, outputs, name='vae_mlp')"
   ]
  },
  {
   "cell_type": "code",
   "execution_count": 69,
   "metadata": {},
   "outputs": [
    {
     "name": "stdout",
     "output_type": "stream",
     "text": [
      "Model: \"vae_mlp\"\n",
      "_________________________________________________________________\n",
      "Layer (type)                 Output Shape              Param #   \n",
      "=================================================================\n",
      "encoder_input (InputLayer)   (None, 20)                0         \n",
      "_________________________________________________________________\n",
      "encoder (Model)              [(None, 2), (None, 2), (N 404       \n",
      "_________________________________________________________________\n",
      "decoder (Model)              (None, 20)                388       \n",
      "=================================================================\n",
      "Total params: 792\n",
      "Trainable params: 792\n",
      "Non-trainable params: 0\n",
      "_________________________________________________________________\n"
     ]
    }
   ],
   "source": [
    "models = (encoder, decoder)\n",
    "reconstruction_loss = mse(inputs, outputs)\n",
    "reconstruction_loss *= original_dim\n",
    "kl_loss = 1 + z_log_var - K.square(z_mean) - K.exp(z_log_var)\n",
    "kl_loss = K.sum(kl_loss, axis=-1)\n",
    "kl_loss *= -0.5\n",
    "vae_loss = K.mean(reconstruction_loss + kl_loss)\n",
    "vae.add_loss(vae_loss)\n",
    "vae.compile(optimizer='adam')\n",
    "vae.summary()"
   ]
  },
  {
   "cell_type": "code",
   "execution_count": 70,
   "metadata": {},
   "outputs": [],
   "source": [
    "x_test = sample_data(10000, seq_length=20)"
   ]
  },
  {
   "cell_type": "code",
   "execution_count": 71,
   "metadata": {},
   "outputs": [
    {
     "name": "stdout",
     "output_type": "stream",
     "text": [
      "Train on 50000 samples, validate on 10000 samples\n",
      "Epoch 1/50\n",
      "50000/50000 [==============================] - 2s 38us/step - loss: 1.8581 - val_loss: 0.3879\n",
      "Epoch 2/50\n",
      "50000/50000 [==============================] - 1s 16us/step - loss: 0.2358 - val_loss: 0.1823\n",
      "Epoch 3/50\n",
      "50000/50000 [==============================] - 1s 16us/step - loss: 0.1728 - val_loss: 0.1654\n",
      "Epoch 4/50\n",
      "50000/50000 [==============================] - 1s 16us/step - loss: 0.1637 - val_loss: 0.1607\n",
      "Epoch 5/50\n",
      "50000/50000 [==============================] - 1s 16us/step - loss: 0.1607 - val_loss: 0.1588\n",
      "Epoch 6/50\n",
      "50000/50000 [==============================] - 1s 16us/step - loss: 0.1594 - val_loss: 0.1579\n",
      "Epoch 7/50\n",
      "50000/50000 [==============================] - 1s 16us/step - loss: 0.1586 - val_loss: 0.1574\n",
      "Epoch 8/50\n",
      "50000/50000 [==============================] - 1s 18us/step - loss: 0.1582 - val_loss: 0.1571\n",
      "Epoch 9/50\n",
      "50000/50000 [==============================] - 1s 17us/step - loss: 0.1580 - val_loss: 0.1569\n",
      "Epoch 10/50\n",
      "50000/50000 [==============================] - 1s 16us/step - loss: 0.1579 - val_loss: 0.1568\n",
      "Epoch 11/50\n",
      "50000/50000 [==============================] - 1s 17us/step - loss: 0.1577 - val_loss: 0.1566\n",
      "Epoch 12/50\n",
      "50000/50000 [==============================] - 1s 17us/step - loss: 0.1577 - val_loss: 0.1566\n",
      "Epoch 13/50\n",
      "50000/50000 [==============================] - 1s 17us/step - loss: 0.1576 - val_loss: 0.1565\n",
      "Epoch 14/50\n",
      "50000/50000 [==============================] - 1s 17us/step - loss: 0.1576 - val_loss: 0.1566\n",
      "Epoch 15/50\n",
      "50000/50000 [==============================] - 1s 17us/step - loss: 0.1576 - val_loss: 0.1565\n",
      "Epoch 16/50\n",
      "50000/50000 [==============================] - 1s 17us/step - loss: 0.1576 - val_loss: 0.1566\n",
      "Epoch 17/50\n",
      "50000/50000 [==============================] - 1s 17us/step - loss: 0.1576 - val_loss: 0.1565\n",
      "Epoch 18/50\n",
      "50000/50000 [==============================] - 1s 17us/step - loss: 0.1576 - val_loss: 0.1565\n",
      "Epoch 19/50\n",
      "50000/50000 [==============================] - 1s 19us/step - loss: 0.1576 - val_loss: 0.1565\n",
      "Epoch 20/50\n",
      "50000/50000 [==============================] - 1s 19us/step - loss: 0.1576 - val_loss: 0.1565\n",
      "Epoch 21/50\n",
      "50000/50000 [==============================] - 1s 27us/step - loss: 0.1576 - val_loss: 0.1565\n",
      "Epoch 22/50\n",
      "50000/50000 [==============================] - 1s 22us/step - loss: 0.1576 - val_loss: 0.1565\n",
      "Epoch 23/50\n",
      "50000/50000 [==============================] - 1s 24us/step - loss: 0.1576 - val_loss: 0.1565\n",
      "Epoch 24/50\n",
      "50000/50000 [==============================] - 1s 19us/step - loss: 0.1576 - val_loss: 0.1565\n",
      "Epoch 25/50\n",
      "50000/50000 [==============================] - 1s 17us/step - loss: 0.1576 - val_loss: 0.1565\n",
      "Epoch 26/50\n",
      "50000/50000 [==============================] - 1s 17us/step - loss: 0.1576 - val_loss: 0.1565\n",
      "Epoch 27/50\n",
      "50000/50000 [==============================] - 1s 18us/step - loss: 0.1576 - val_loss: 0.1565\n",
      "Epoch 28/50\n",
      "50000/50000 [==============================] - 1s 17us/step - loss: 0.1576 - val_loss: 0.1565\n",
      "Epoch 29/50\n",
      "50000/50000 [==============================] - 1s 17us/step - loss: 0.1576 - val_loss: 0.1565\n",
      "Epoch 30/50\n",
      "50000/50000 [==============================] - 1s 23us/step - loss: 0.1576 - val_loss: 0.1565\n",
      "Epoch 31/50\n",
      "50000/50000 [==============================] - 1s 18us/step - loss: 0.1575 - val_loss: 0.1565\n",
      "Epoch 32/50\n",
      "50000/50000 [==============================] - 1s 17us/step - loss: 0.1575 - val_loss: 0.1565\n",
      "Epoch 33/50\n",
      "50000/50000 [==============================] - 1s 17us/step - loss: 0.1575 - val_loss: 0.1565\n",
      "Epoch 34/50\n",
      "50000/50000 [==============================] - 1s 20us/step - loss: 0.1575 - val_loss: 0.1565\n",
      "Epoch 35/50\n",
      "50000/50000 [==============================] - 1s 17us/step - loss: 0.1575 - val_loss: 0.1565\n",
      "Epoch 36/50\n",
      "50000/50000 [==============================] - 1s 17us/step - loss: 0.1575 - val_loss: 0.1565\n",
      "Epoch 37/50\n",
      "50000/50000 [==============================] - 1s 17us/step - loss: 0.1575 - val_loss: 0.1565\n",
      "Epoch 38/50\n",
      "50000/50000 [==============================] - 1s 17us/step - loss: 0.1575 - val_loss: 0.1565\n",
      "Epoch 39/50\n",
      "50000/50000 [==============================] - 1s 17us/step - loss: 0.1575 - val_loss: 0.1565\n",
      "Epoch 40/50\n",
      "50000/50000 [==============================] - 1s 19us/step - loss: 0.1575 - val_loss: 0.1565\n",
      "Epoch 41/50\n",
      "50000/50000 [==============================] - 1s 19us/step - loss: 0.1575 - val_loss: 0.1565\n",
      "Epoch 42/50\n",
      "50000/50000 [==============================] - 1s 26us/step - loss: 0.1575 - val_loss: 0.1565\n",
      "Epoch 43/50\n",
      "50000/50000 [==============================] - 1s 18us/step - loss: 0.1575 - val_loss: 0.1565\n",
      "Epoch 44/50\n",
      "50000/50000 [==============================] - 1s 17us/step - loss: 0.1575 - val_loss: 0.1565\n",
      "Epoch 45/50\n",
      "50000/50000 [==============================] - 1s 17us/step - loss: 0.1575 - val_loss: 0.1565\n",
      "Epoch 46/50\n",
      "50000/50000 [==============================] - 1s 17us/step - loss: 0.1575 - val_loss: 0.1565\n",
      "Epoch 47/50\n",
      "50000/50000 [==============================] - 1s 17us/step - loss: 0.1575 - val_loss: 0.1565\n",
      "Epoch 48/50\n",
      "50000/50000 [==============================] - 1s 23us/step - loss: 0.1575 - val_loss: 0.1565\n",
      "Epoch 49/50\n",
      "50000/50000 [==============================] - 1s 24us/step - loss: 0.1575 - val_loss: 0.1565\n",
      "Epoch 50/50\n",
      "50000/50000 [==============================] - 1s 17us/step - loss: 0.1575 - val_loss: 0.1565\n"
     ]
    },
    {
     "data": {
      "text/plain": [
       "<keras.callbacks.History at 0x14ace8cc0>"
      ]
     },
     "execution_count": 71,
     "metadata": {},
     "output_type": "execute_result"
    }
   ],
   "source": [
    "vae.fit(x_train,\n",
    "        epochs=epochs,\n",
    "        batch_size=batch_size,\n",
    "        validation_data=(x_test, None))"
   ]
  },
  {
   "cell_type": "code",
   "execution_count": 72,
   "metadata": {},
   "outputs": [],
   "source": [
    "from tqdm import tqdm"
   ]
  },
  {
   "cell_type": "code",
   "execution_count": 73,
   "metadata": {},
   "outputs": [
    {
     "name": "stderr",
     "output_type": "stream",
     "text": [
      "100it [00:06, 15.37it/s]\n"
     ]
    }
   ],
   "source": [
    "grid_x = np.linspace(-2, 2, 100)\n",
    "grid_y = np.linspace(-2, 2, 100)[::-1]\n",
    "\n",
    "gen_data = []\n",
    "for i, yi in tqdm(enumerate(grid_y)):\n",
    "    for j, xi in enumerate(grid_x):\n",
    "        z_sample = np.array([[xi, yi]])\n",
    "        x_decoded = decoder.predict(z_sample)\n",
    "        gen_data.append(x_decoded[0])\n",
    "        #print(z_sample.shape)\n",
    "\n",
    "gen_data = np.array(gen_data)"
   ]
  },
  {
   "cell_type": "code",
   "execution_count": 74,
   "metadata": {},
   "outputs": [],
   "source": [
    "ids = np.random.choice(10000, 100)"
   ]
  },
  {
   "cell_type": "code",
   "execution_count": 50,
   "metadata": {},
   "outputs": [],
   "source": [
    "def series_from_returns(start, returns):\n",
    "    res = [start]\n",
    "    for ret in returns:\n",
    "        res.append(res[-1]*ret + res[-1])\n",
    "    return res"
   ]
  },
  {
   "cell_type": "code",
   "execution_count": 76,
   "metadata": {},
   "outputs": [
    {
     "data": {
      "image/png": "[encoded data removed]",
      "text/plain": [
       "<Figure size 432x288 with 1 Axes>"
      ]
     },
     "metadata": {
      "needs_background": "light"
     },
     "output_type": "display_data"
    }
   ],
   "source": [
    "start = apple['Adj Close'][0]\n",
    "for sample in gen_data[ids]:\n",
    "    plt.plot(series_from_returns(start, sample))"
   ]
  },
  {
   "cell_type": "code",
   "execution_count": 77,
   "metadata": {},
   "outputs": [
    {
     "data": {
      "text/plain": [
       "(0.003908278, 0.00067376724)"
      ]
     },
     "execution_count": 77,
     "metadata": {},
     "output_type": "execute_result"
    }
   ],
   "source": [
    "np.mean(gen_data), np.std(gen_data)"
   ]
  },
  {
   "cell_type": "code",
   "execution_count": 78,
   "metadata": {},
   "outputs": [
    {
     "data": {
      "text/plain": [
       "(0.003833227999222314, 0.0886252352820025)"
      ]
     },
     "execution_count": 78,
     "metadata": {},
     "output_type": "execute_result"
    }
   ],
   "source": [
    "np.mean(samples), np.std(samples)"
   ]
  },
  {
   "cell_type": "code",
   "execution_count": 79,
   "metadata": {},
   "outputs": [
    {
     "name": "stdout",
     "output_type": "stream",
     "text": [
      "Mean p_value 0.2567840647288554\n"
     ]
    }
   ],
   "source": [
    "from scipy import stats\n",
    "p_value = np.mean([stats.normaltest(gen_data[i]).pvalue for i in ids])\n",
    "print(\"Mean p_value\", p_value)"
   ]
  },
  {
   "cell_type": "markdown",
   "metadata": {},
   "source": [
    "# More Layers"
   ]
  },
  {
   "cell_type": "code",
   "execution_count": 80,
   "metadata": {},
   "outputs": [
    {
     "name": "stderr",
     "output_type": "stream",
     "text": [
      "W0901 08:39:43.861546 4434335168 deprecation.py:506] From /Users/ekaterinapogodina/venv3.7/lib/python3.7/site-packages/keras/backend/tensorflow_backend.py:3733: calling dropout (from tensorflow.python.ops.nn_ops) with keep_prob is deprecated and will be removed in a future version.\n",
      "Instructions for updating:\n",
      "Please use `rate` instead of `keep_prob`. Rate should be set to `rate = 1 - keep_prob`.\n",
      "W0901 08:39:43.864979 4434335168 nn_ops.py:4224] Large dropout rate: 0.6 (>0.5). In TensorFlow 2.x, dropout() uses dropout rate instead of keep_prob. Please ensure that this is intended.\n",
      "W0901 08:39:44.017000 4434335168 nn_ops.py:4224] Large dropout rate: 0.6 (>0.5). In TensorFlow 2.x, dropout() uses dropout rate instead of keep_prob. Please ensure that this is intended.\n",
      "W0901 08:39:44.107208 4434335168 nn_ops.py:4224] Large dropout rate: 0.6 (>0.5). In TensorFlow 2.x, dropout() uses dropout rate instead of keep_prob. Please ensure that this is intended.\n",
      "W0901 08:39:44.155169 4434335168 nn_ops.py:4224] Large dropout rate: 0.6 (>0.5). In TensorFlow 2.x, dropout() uses dropout rate instead of keep_prob. Please ensure that this is intended.\n"
     ]
    },
    {
     "name": "stdout",
     "output_type": "stream",
     "text": [
      "Model: \"encoder\"\n",
      "__________________________________________________________________________________________________\n",
      "Layer (type)                    Output Shape         Param #     Connected to                     \n",
      "==================================================================================================\n",
      "encoder_input (InputLayer)      (None, 20)           0                                            \n",
      "__________________________________________________________________________________________________\n",
      "dense_18 (Dense)                (None, 16)           336         encoder_input[0][0]              \n",
      "__________________________________________________________________________________________________\n",
      "dropout_1 (Dropout)             (None, 16)           0           dense_18[0][0]                   \n",
      "__________________________________________________________________________________________________\n",
      "dense_19 (Dense)                (None, 32)           544         dropout_1[0][0]                  \n",
      "__________________________________________________________________________________________________\n",
      "z_mean (Dense)                  (None, 2)            66          dense_19[0][0]                   \n",
      "__________________________________________________________________________________________________\n",
      "z_log_var (Dense)               (None, 2)            66          dense_19[0][0]                   \n",
      "__________________________________________________________________________________________________\n",
      "z (Lambda)                      (None, 2)            0           z_mean[0][0]                     \n",
      "                                                                 z_log_var[0][0]                  \n",
      "==================================================================================================\n",
      "Total params: 1,012\n",
      "Trainable params: 1,012\n",
      "Non-trainable params: 0\n",
      "__________________________________________________________________________________________________\n",
      "Model: \"decoder\"\n",
      "_________________________________________________________________\n",
      "Layer (type)                 Output Shape              Param #   \n",
      "=================================================================\n",
      "z_sampling (InputLayer)      (None, 2)                 0         \n",
      "_________________________________________________________________\n",
      "dense_20 (Dense)             (None, 16)                48        \n",
      "_________________________________________________________________\n",
      "dropout_2 (Dropout)          (None, 16)                0         \n",
      "_________________________________________________________________\n",
      "dense_21 (Dense)             (None, 32)                544       \n",
      "_________________________________________________________________\n",
      "dense_22 (Dense)             (None, 20)                660       \n",
      "=================================================================\n",
      "Total params: 1,252\n",
      "Trainable params: 1,252\n",
      "Non-trainable params: 0\n",
      "_________________________________________________________________\n"
     ]
    }
   ],
   "source": [
    "from __future__ import absolute_import\n",
    "from __future__ import division\n",
    "from __future__ import print_function\n",
    "\n",
    "from keras.layers import Lambda, Input, Dense, Dropout\n",
    "from keras.models import Model\n",
    "from keras.datasets import mnist\n",
    "from keras.losses import mse, binary_crossentropy\n",
    "from keras.utils import plot_model\n",
    "from keras import backend as K\n",
    "\n",
    "import numpy as np\n",
    "import matplotlib.pyplot as plt\n",
    "import argparse\n",
    "import os\n",
    "\n",
    "\n",
    "# reparameterization trick\n",
    "# instead of sampling from Q(z|X), sample eps = N(0,I)\n",
    "# z = z_mean + sqrt(var)*eps\n",
    "def sampling(args):\n",
    "    \"\"\"Reparameterization trick by sampling fr an isotropic unit Gaussian.\n",
    "\n",
    "    # Arguments\n",
    "        args (tensor): mean and log of variance of Q(z|X)\n",
    "\n",
    "    # Returns\n",
    "        z (tensor): sampled latent vector\n",
    "    \"\"\"\n",
    "\n",
    "    z_mean, z_log_var = args\n",
    "    batch = K.shape(z_mean)[0]\n",
    "    dim = K.int_shape(z_mean)[1]\n",
    "    # by default, random_normal has mean=0 and std=1.0\n",
    "    epsilon = K.random_normal(shape=(batch, dim))\n",
    "    return z_mean + K.exp(0.5 * z_log_var) * epsilon\n",
    "\n",
    "\n",
    "# MNIST dataset\n",
    "\n",
    "x_train = sample_data(seq_length=20)\n",
    "original_dim = x_train.shape[1]\n",
    "\n",
    "# network parameters\n",
    "input_shape = (original_dim, )\n",
    "intermediate_dim = 16\n",
    "batch_size = 128\n",
    "latent_dim = 2\n",
    "epochs = 50\n",
    "\n",
    "# VAE model = encoder + decoder\n",
    "# build encoder model\n",
    "inputs = Input(shape=input_shape, name='encoder_input')\n",
    "x = Dense(intermediate_dim, activation='relu')(inputs)\n",
    "y = Dropout(0.6)(x)\n",
    "y = Dense(intermediate_dim * 2, activation='relu')(y)\n",
    "z_mean = Dense(latent_dim, name='z_mean')(y)\n",
    "z_log_var = Dense(latent_dim, name='z_log_var')(y)\n",
    "\n",
    "# use reparameterization trick to push the sampling out as input\n",
    "# note that \"output_shape\" isn't necessary with the TensorFlow backend\n",
    "z = Lambda(sampling, output_shape=(latent_dim,), name='z')([z_mean, z_log_var])\n",
    "\n",
    "# instantiate encoder model\n",
    "encoder = Model(inputs, [z_mean, z_log_var, z], name='encoder')\n",
    "encoder.summary()\n",
    "#plot_model(encoder, to_file='vae_mlp_encoder.png', show_shapes=True)\n",
    "\n",
    "# build decoder model\n",
    "latent_inputs = Input(shape=(latent_dim,), name='z_sampling')\n",
    "x = Dense(intermediate_dim, activation='relu')(latent_inputs)\n",
    "y = Dropout(0.6)(x)\n",
    "y = Dense(intermediate_dim * 2, activation='relu')(y)\n",
    "outputs = Dense(original_dim, activation='sigmoid')(y)\n",
    "\n",
    "# instantiate decoder model\n",
    "decoder = Model(latent_inputs, outputs, name='decoder')\n",
    "decoder.summary()\n",
    "#plot_model(decoder, to_file='vae_mlp_decoder.png', show_shapes=True)\n",
    "\n",
    "# instantiate VAE model\n",
    "outputs = decoder(encoder(inputs)[2])\n",
    "vae = Model(inputs, outputs, name='vae_mlp')"
   ]
  },
  {
   "cell_type": "code",
   "execution_count": 81,
   "metadata": {},
   "outputs": [
    {
     "name": "stdout",
     "output_type": "stream",
     "text": [
      "Model: \"vae_mlp\"\n",
      "_________________________________________________________________\n",
      "Layer (type)                 Output Shape              Param #   \n",
      "=================================================================\n",
      "encoder_input (InputLayer)   (None, 20)                0         \n",
      "_________________________________________________________________\n",
      "encoder (Model)              [(None, 2), (None, 2), (N 1012      \n",
      "_________________________________________________________________\n",
      "decoder (Model)              (None, 20)                1252      \n",
      "=================================================================\n",
      "Total params: 2,264\n",
      "Trainable params: 2,264\n",
      "Non-trainable params: 0\n",
      "_________________________________________________________________\n"
     ]
    }
   ],
   "source": [
    "models = (encoder, decoder)\n",
    "reconstruction_loss = mse(inputs, outputs)\n",
    "reconstruction_loss *= original_dim\n",
    "kl_loss = 1 + z_log_var - K.square(z_mean) - K.exp(z_log_var)\n",
    "kl_loss = K.sum(kl_loss, axis=-1)\n",
    "kl_loss *= -0.5\n",
    "vae_loss = K.mean(reconstruction_loss + kl_loss)\n",
    "vae.add_loss(vae_loss)\n",
    "vae.compile(optimizer='adam')\n",
    "vae.summary()"
   ]
  },
  {
   "cell_type": "code",
   "execution_count": 82,
   "metadata": {},
   "outputs": [],
   "source": [
    "x_test = sample_data(10000, seq_length=20)"
   ]
  },
  {
   "cell_type": "code",
   "execution_count": 84,
   "metadata": {},
   "outputs": [
    {
     "name": "stdout",
     "output_type": "stream",
     "text": [
      "Train on 50000 samples, validate on 10000 samples\n",
      "Epoch 1/20\n",
      "50000/50000 [==============================] - 1s 22us/step - loss: 0.1742 - val_loss: 0.1578\n",
      "Epoch 2/20\n",
      "50000/50000 [==============================] - 1s 20us/step - loss: 0.1627 - val_loss: 0.1579\n",
      "Epoch 3/20\n",
      "50000/50000 [==============================] - 1s 20us/step - loss: 0.1599 - val_loss: 0.1579\n",
      "Epoch 4/20\n",
      "50000/50000 [==============================] - 1s 25us/step - loss: 0.1589 - val_loss: 0.1579\n",
      "Epoch 5/20\n",
      "50000/50000 [==============================] - 1s 24us/step - loss: 0.1583 - val_loss: 0.1579\n",
      "Epoch 6/20\n",
      "50000/50000 [==============================] - 1s 24us/step - loss: 0.1580 - val_loss: 0.1579\n",
      "Epoch 7/20\n",
      "50000/50000 [==============================] - 1s 24us/step - loss: 0.1579 - val_loss: 0.1579\n",
      "Epoch 8/20\n",
      "50000/50000 [==============================] - 1s 22us/step - loss: 0.1578 - val_loss: 0.1579\n",
      "Epoch 9/20\n",
      "50000/50000 [==============================] - 1s 20us/step - loss: 0.1577 - val_loss: 0.1579\n",
      "Epoch 10/20\n",
      "50000/50000 [==============================] - 1s 22us/step - loss: 0.1576 - val_loss: 0.1579\n",
      "Epoch 11/20\n",
      "50000/50000 [==============================] - 1s 20us/step - loss: 0.1576 - val_loss: 0.1579\n",
      "Epoch 12/20\n",
      "50000/50000 [==============================] - 1s 21us/step - loss: 0.1576 - val_loss: 0.1579\n",
      "Epoch 13/20\n",
      "50000/50000 [==============================] - 1s 27us/step - loss: 0.1576 - val_loss: 0.1579\n",
      "Epoch 14/20\n",
      "50000/50000 [==============================] - 2s 38us/step - loss: 0.1576 - val_loss: 0.1579\n",
      "Epoch 15/20\n",
      "50000/50000 [==============================] - 2s 32us/step - loss: 0.1576 - val_loss: 0.1579\n",
      "Epoch 16/20\n",
      "50000/50000 [==============================] - 1s 23us/step - loss: 0.1576 - val_loss: 0.1579\n",
      "Epoch 17/20\n",
      "50000/50000 [==============================] - 1s 21us/step - loss: 0.1575 - val_loss: 0.1579\n",
      "Epoch 18/20\n",
      "50000/50000 [==============================] - 1s 25us/step - loss: 0.1575 - val_loss: 0.1579\n",
      "Epoch 19/20\n",
      "50000/50000 [==============================] - 1s 25us/step - loss: 0.1575 - val_loss: 0.1579\n",
      "Epoch 20/20\n",
      "50000/50000 [==============================] - 1s 24us/step - loss: 0.1575 - val_loss: 0.1579\n"
     ]
    },
    {
     "data": {
      "text/plain": [
       "<keras.callbacks.History at 0x14dcfe438>"
      ]
     },
     "execution_count": 84,
     "metadata": {},
     "output_type": "execute_result"
    }
   ],
   "source": [
    "vae.fit(x_train,\n",
    "        epochs=20,\n",
    "        batch_size=batch_size,\n",
    "        validation_data=(x_test, None))"
   ]
  },
  {
   "cell_type": "code",
   "execution_count": 85,
   "metadata": {},
   "outputs": [
    {
     "name": "stderr",
     "output_type": "stream",
     "text": [
      "100it [00:09, 15.09it/s]\n"
     ]
    }
   ],
   "source": [
    "grid_x = np.linspace(-2, 2, 100)\n",
    "grid_y = np.linspace(-2, 2, 100)[::-1]\n",
    "\n",
    "gen_data = []\n",
    "for i, yi in tqdm(enumerate(grid_y)):\n",
    "    for j, xi in enumerate(grid_x):\n",
    "        z_sample = np.array([[xi, yi]])\n",
    "        x_decoded = decoder.predict(z_sample)\n",
    "        gen_data.append(x_decoded[0])\n",
    "        #print(z_sample.shape)\n",
    "\n",
    "gen_data = np.array(gen_data)"
   ]
  },
  {
   "cell_type": "code",
   "execution_count": 86,
   "metadata": {},
   "outputs": [],
   "source": [
    "ids = np.random.choice(10000, 100) \n",
    "\n",
    "def series_from_returns(start, returns):\n",
    "    res = [start]\n",
    "    for ret in returns:\n",
    "        res.append(res[-1]*ret + res[-1])\n",
    "    return res"
   ]
  },
  {
   "cell_type": "code",
   "execution_count": 87,
   "metadata": {},
   "outputs": [
    {
     "data": {
      "image/png": "[encoded data removed]",
      "text/plain": [
       "<Figure size 432x288 with 1 Axes>"
      ]
     },
     "metadata": {
      "needs_background": "light"
     },
     "output_type": "display_data"
    }
   ],
   "source": [
    "start = apple['Adj Close'][0]\n",
    "for sample in gen_data[ids]:\n",
    "    plt.plot(series_from_returns(start, sample))"
   ]
  },
  {
   "cell_type": "code",
   "execution_count": 93,
   "metadata": {},
   "outputs": [
    {
     "data": {
      "text/plain": [
       "(3.511489e-06, 6.433701e-06)"
      ]
     },
     "execution_count": 93,
     "metadata": {},
     "output_type": "execute_result"
    }
   ],
   "source": [
    "np.mean(gen_data),  np.std(gen_data)"
   ]
  },
  {
   "cell_type": "code",
   "execution_count": 90,
   "metadata": {},
   "outputs": [
    {
     "data": {
      "text/plain": [
       "(0.0037623823574084196, 0.08867515769572544)"
      ]
     },
     "execution_count": 90,
     "metadata": {},
     "output_type": "execute_result"
    }
   ],
   "source": [
    "np.mean(x_train), np.std(x_train)"
   ]
  },
  {
   "cell_type": "code",
   "execution_count": 94,
   "metadata": {},
   "outputs": [
    {
     "name": "stdout",
     "output_type": "stream",
     "text": [
      "Mean p_value 0.23986461294928\n"
     ]
    }
   ],
   "source": [
    "from scipy import stats\n",
    "p_value = np.mean([stats.normaltest(gen_data[i]).pvalue for i in ids])\n",
    "print(\"Mean p_value\", p_value)"
   ]
  },
  {
   "cell_type": "code",
   "execution_count": null,
   "metadata": {},
   "outputs": [],
   "source": []
  }
 ],
 "metadata": {
  "kernelspec": {
   "display_name": "Python 3",
   "language": "python",
   "name": "python3"
  },
  "language_info": {
   "codemirror_mode": {
    "name": "ipython",
    "version": 3
   },
   "file_extension": ".py",
   "mimetype": "text/x-python",
   "name": "python",
   "nbconvert_exporter": "python",
   "pygments_lexer": "ipython3",
   "version": "3.7.3"
  }
 },
 "nbformat": 4,
 "nbformat_minor": 2
}
