{
 "cells": [
  {
   "cell_type": "code",
   "execution_count": 2,
   "metadata": {},
   "outputs": [],
   "source": [
    "import numpy as np\n",
    "from pandas_datareader import data \n",
    "apple = data.DataReader('AFI.AX', 'yahoo', start='1/1/2010', end= '1/10/2015')\n",
    "apple['Returns'] = apple['Adj Close'].pct_change()\n",
    "# mu = apple['Returns'].mean()\n",
    "# std = apple['Returns'].std()\n",
    "\n",
    "def sample_data(n_samples=50000, seq_length=10):\n",
    "\n",
    "    vectors = []\n",
    "\n",
    "    for i in range(n_samples):\n",
    "        daily_returns=np.random.normal(mu, std, seq_length)\n",
    "        vectors.append(daily_returns)\n",
    "    \n",
    "    return np.asarray(vectors)\n",
    "\n",
    "samples = sample_data()"
   ]
  },
  {
   "cell_type": "code",
   "execution_count": 22,
   "metadata": {},
   "outputs": [
    {
     "name": "stdout",
     "output_type": "stream",
     "text": [
      "Model: \"encoder\"\n",
      "__________________________________________________________________________________________________\n",
      "Layer (type)                    Output Shape         Param #     Connected to                     \n",
      "==================================================================================================\n",
      "encoder_input (InputLayer)      (None, 20)           0                                            \n",
      "__________________________________________________________________________________________________\n",
      "reshape_11 (Reshape)            (None, 20, 1)        0           encoder_input[0][0]              \n",
      "__________________________________________________________________________________________________\n",
      "conv1d_6 (Conv1D)               (None, 20, 32)       96          reshape_11[0][0]                 \n",
      "__________________________________________________________________________________________________\n",
      "dense_9 (Dense)                 (None, 20, 1)        33          conv1d_6[0][0]                   \n",
      "__________________________________________________________________________________________________\n",
      "reshape_12 (Reshape)            (None, 20)           0           dense_9[0][0]                    \n",
      "__________________________________________________________________________________________________\n",
      "z_mean (Dense)                  (None, 2)            42          reshape_12[0][0]                 \n",
      "__________________________________________________________________________________________________\n",
      "z_log_var (Dense)               (None, 2)            42          reshape_12[0][0]                 \n",
      "__________________________________________________________________________________________________\n",
      "z (Lambda)                      (None, 2)            0           z_mean[0][0]                     \n",
      "                                                                 z_log_var[0][0]                  \n",
      "==================================================================================================\n",
      "Total params: 213\n",
      "Trainable params: 213\n",
      "Non-trainable params: 0\n",
      "__________________________________________________________________________________________________\n",
      "Model: \"decoder\"\n",
      "_________________________________________________________________\n",
      "Layer (type)                 Output Shape              Param #   \n",
      "=================================================================\n",
      "z_sampling (InputLayer)      (None, 2)                 0         \n",
      "_________________________________________________________________\n",
      "dense_10 (Dense)             (None, 32)                96        \n",
      "_________________________________________________________________\n",
      "dense_11 (Dense)             (None, 20)                660       \n",
      "=================================================================\n",
      "Total params: 756\n",
      "Trainable params: 756\n",
      "Non-trainable params: 0\n",
      "_________________________________________________________________\n"
     ]
    }
   ],
   "source": [
    "from __future__ import absolute_import\n",
    "from __future__ import division\n",
    "from __future__ import print_function\n",
    "\n",
    "from keras.layers import Lambda, Input, Dense, Conv1D, Reshape\n",
    "from keras.models import Model\n",
    "from keras.datasets import mnist\n",
    "from keras.losses import mse, binary_crossentropy\n",
    "from keras.utils import plot_model\n",
    "from keras import backend as K\n",
    "\n",
    "import numpy as np\n",
    "import matplotlib.pyplot as plt\n",
    "import argparse\n",
    "import os\n",
    "\n",
    "\n",
    "# reparameterization trick\n",
    "# instead of sampling from Q(z|X), sample eps = N(0,I)\n",
    "# z = z_mean + sqrt(var)*eps\n",
    "def sampling(args):\n",
    "    \"\"\"Reparameterization trick by sampling fr an isotropic unit Gaussian.\n",
    "\n",
    "    # Arguments\n",
    "        args (tensor): mean and log of variance of Q(z|X)\n",
    "\n",
    "    # Returns\n",
    "        z (tensor): sampled latent vector\n",
    "    \"\"\"\n",
    "\n",
    "    z_mean, z_log_var = args\n",
    "    batch = K.shape(z_mean)[0]\n",
    "    dim = K.int_shape(z_mean)[1]\n",
    "    # by default, random_normal has mean=0 and std=1.0\n",
    "    epsilon = K.random_normal(shape=(batch, dim))\n",
    "    return z_mean + K.exp(0.5 * z_log_var) * epsilon\n",
    "\n",
    "\n",
    "# MNIST dataset\n",
    "\n",
    "x_train = sample_data(seq_length=20)\n",
    "#x_train = x_train.reshape(50000, 20, 1)\n",
    "original_dim = x_train.shape[1]\n",
    "\n",
    "# network parameters\n",
    "input_shape = (original_dim, )\n",
    "intermediate_dim = 32\n",
    "batch_size = 128\n",
    "latent_dim = 2\n",
    "epochs = 50\n",
    "\n",
    "# VAE model = encoder + decoder\n",
    "# build encoder model\n",
    "inputs = Input(shape=input_shape, name='encoder_input')\n",
    "inputs2 = Reshape((original_dim, 1))(inputs)\n",
    "x = Conv1D(filters=intermediate_dim, kernel_size=2, padding='same', activation='relu')(inputs2)\n",
    "y = Dense(1, activation='relu')(x)\n",
    "y = Reshape((20,))(y)\n",
    "z_mean = Dense(latent_dim, name='z_mean')(y)\n",
    "z_log_var = Dense(latent_dim, name='z_log_var')(y)\n",
    "# #print(x.shape, y.shape)\n",
    "\n",
    "\n",
    "# use reparameterization trick to push the sampling out as input\n",
    "# note that \"output_shape\" isn't necessary with the TensorFlow backend\n",
    "z = Lambda(sampling, output_shape=(latent_dim, ), name='z')([z_mean, z_log_var])\n",
    "\n",
    "# instantiate encoder model\n",
    "encoder = Model(inputs, [z_mean, z_log_var, z], name='encoder')\n",
    "encoder.summary()\n",
    "#plot_model(encoder, to_file='vae_mlp_encoder.png', show_shapes=True)\n",
    "\n",
    "# build decoder model\n",
    "latent_inputs = Input(shape=(latent_dim,), name='z_sampling')\n",
    "x = Dense(intermediate_dim, activation='relu')(latent_inputs)\n",
    "outputs = Dense(original_dim, activation='sigmoid')(x)\n",
    "\n",
    "# instantiate decoder model\n",
    "decoder = Model(latent_inputs, outputs, name='decoder')\n",
    "decoder.summary()\n",
    "#plot_model(decoder, to_file='vae_mlp_decoder.png', show_shapes=True)\n",
    "\n",
    "# instantiate VAE model\n",
    "outputs = decoder(encoder(inputs)[2])\n",
    "vae = Model(inputs, outputs, name='vae_mlp')"
   ]
  },
  {
   "cell_type": "code",
   "execution_count": 6,
   "metadata": {},
   "outputs": [
    {
     "name": "stderr",
     "output_type": "stream",
     "text": [
      "W0831 13:44:37.230824 4799972800 deprecation_wrapper.py:119] From /Users/ekaterinapogodina/venv3.7/lib/python3.7/site-packages/keras/optimizers.py:793: The name tf.train.Optimizer is deprecated. Please use tf.compat.v1.train.Optimizer instead.\n",
      "\n"
     ]
    },
    {
     "name": "stdout",
     "output_type": "stream",
     "text": [
      "Model: \"vae_mlp\"\n",
      "_________________________________________________________________\n",
      "Layer (type)                 Output Shape              Param #   \n",
      "=================================================================\n",
      "encoder_input (InputLayer)   (None, 20)                0         \n",
      "_________________________________________________________________\n",
      "encoder (Model)              [(None, 2), (None, 2), (N 213       \n",
      "_________________________________________________________________\n",
      "decoder (Model)              (None, 20)                756       \n",
      "=================================================================\n",
      "Total params: 969\n",
      "Trainable params: 969\n",
      "Non-trainable params: 0\n",
      "_________________________________________________________________\n"
     ]
    }
   ],
   "source": [
    "models = (encoder, decoder)\n",
    "reconstruction_loss = mse(inputs, outputs)\n",
    "reconstruction_loss *= original_dim\n",
    "kl_loss = 1 + z_log_var - K.square(z_mean) - K.exp(z_log_var)\n",
    "kl_loss = K.sum(kl_loss, axis=-1)\n",
    "kl_loss *= -0.5\n",
    "vae_loss = K.mean(reconstruction_loss + kl_loss)\n",
    "vae.add_loss(vae_loss)\n",
    "vae.compile(optimizer='adam')\n",
    "vae.summary()"
   ]
  },
  {
   "cell_type": "code",
   "execution_count": 8,
   "metadata": {},
   "outputs": [],
   "source": [
    "x_test = sample_data(10000, seq_length=20)\n",
    "#x_test = x_test.reshape(10000, 20, 1)"
   ]
  },
  {
   "cell_type": "code",
   "execution_count": 9,
   "metadata": {},
   "outputs": [
    {
     "data": {
      "text/plain": [
       "((10000, 20), (50000, 20))"
      ]
     },
     "execution_count": 9,
     "metadata": {},
     "output_type": "execute_result"
    }
   ],
   "source": [
    "x_test.shape, x_train.shape"
   ]
  },
  {
   "cell_type": "code",
   "execution_count": 10,
   "metadata": {},
   "outputs": [
    {
     "name": "stderr",
     "output_type": "stream",
     "text": [
      "W0831 13:44:48.292050 4799972800 deprecation_wrapper.py:119] From /Users/ekaterinapogodina/venv3.7/lib/python3.7/site-packages/keras/backend/tensorflow_backend.py:1033: The name tf.assign_add is deprecated. Please use tf.compat.v1.assign_add instead.\n",
      "\n"
     ]
    },
    {
     "name": "stdout",
     "output_type": "stream",
     "text": [
      "Train on 50000 samples, validate on 10000 samples\n",
      "Epoch 1/50\n",
      "50000/50000 [==============================] - 2s 34us/step - loss: 1.3711 - val_loss: 0.2395\n",
      "Epoch 2/50\n",
      "50000/50000 [==============================] - 1s 22us/step - loss: 0.1910 - val_loss: 0.1704\n",
      "Epoch 3/50\n",
      "50000/50000 [==============================] - 1s 22us/step - loss: 0.1655 - val_loss: 0.1618\n",
      "Epoch 4/50\n",
      "50000/50000 [==============================] - 1s 22us/step - loss: 0.1608 - val_loss: 0.1593\n",
      "Epoch 5/50\n",
      "50000/50000 [==============================] - 1s 22us/step - loss: 0.1592 - val_loss: 0.1583\n",
      "Epoch 6/50\n",
      "50000/50000 [==============================] - 1s 23us/step - loss: 0.1585 - val_loss: 0.1578\n",
      "Epoch 7/50\n",
      "50000/50000 [==============================] - 1s 23us/step - loss: 0.1581 - val_loss: 0.1575\n",
      "Epoch 8/50\n",
      "50000/50000 [==============================] - 1s 23us/step - loss: 0.1580 - val_loss: 0.1574\n",
      "Epoch 9/50\n",
      "50000/50000 [==============================] - 1s 23us/step - loss: 0.1579 - val_loss: 0.1572\n",
      "Epoch 10/50\n",
      "50000/50000 [==============================] - 1s 24us/step - loss: 0.1578 - val_loss: 0.1572\n",
      "Epoch 11/50\n",
      "50000/50000 [==============================] - 1s 23us/step - loss: 0.1577 - val_loss: 0.1572\n",
      "Epoch 12/50\n",
      "50000/50000 [==============================] - 1s 22us/step - loss: 0.1577 - val_loss: 0.1571\n",
      "Epoch 13/50\n",
      "50000/50000 [==============================] - 1s 23us/step - loss: 0.1577 - val_loss: 0.1571\n",
      "Epoch 14/50\n",
      "50000/50000 [==============================] - 1s 23us/step - loss: 0.1577 - val_loss: 0.1571\n",
      "Epoch 15/50\n",
      "50000/50000 [==============================] - 1s 22us/step - loss: 0.1577 - val_loss: 0.1571\n",
      "Epoch 16/50\n",
      "50000/50000 [==============================] - 1s 22us/step - loss: 0.1577 - val_loss: 0.1571\n",
      "Epoch 17/50\n",
      "50000/50000 [==============================] - 1s 22us/step - loss: 0.1577 - val_loss: 0.1571\n",
      "Epoch 18/50\n",
      "50000/50000 [==============================] - 1s 23us/step - loss: 0.1577 - val_loss: 0.1571\n",
      "Epoch 19/50\n",
      "50000/50000 [==============================] - 1s 22us/step - loss: 0.1577 - val_loss: 0.1571\n",
      "Epoch 20/50\n",
      "50000/50000 [==============================] - 1s 23us/step - loss: 0.1577 - val_loss: 0.1571\n",
      "Epoch 21/50\n",
      "50000/50000 [==============================] - 1s 22us/step - loss: 0.1577 - val_loss: 0.1571\n",
      "Epoch 22/50\n",
      "50000/50000 [==============================] - 1s 23us/step - loss: 0.1577 - val_loss: 0.1570\n",
      "Epoch 23/50\n",
      "50000/50000 [==============================] - 1s 23us/step - loss: 0.1576 - val_loss: 0.1571\n",
      "Epoch 24/50\n",
      "50000/50000 [==============================] - 1s 23us/step - loss: 0.1576 - val_loss: 0.1571\n",
      "Epoch 25/50\n",
      "50000/50000 [==============================] - 1s 23us/step - loss: 0.1576 - val_loss: 0.1571\n",
      "Epoch 26/50\n",
      "50000/50000 [==============================] - 1s 22us/step - loss: 0.1576 - val_loss: 0.1570\n",
      "Epoch 27/50\n",
      "50000/50000 [==============================] - 1s 23us/step - loss: 0.1576 - val_loss: 0.1570\n",
      "Epoch 28/50\n",
      "50000/50000 [==============================] - 1s 22us/step - loss: 0.1576 - val_loss: 0.1571\n",
      "Epoch 29/50\n",
      "50000/50000 [==============================] - 1s 23us/step - loss: 0.1576 - val_loss: 0.1570\n",
      "Epoch 30/50\n",
      "50000/50000 [==============================] - 1s 23us/step - loss: 0.1576 - val_loss: 0.1571\n",
      "Epoch 31/50\n",
      "50000/50000 [==============================] - 1s 23us/step - loss: 0.1576 - val_loss: 0.1570\n",
      "Epoch 32/50\n",
      "50000/50000 [==============================] - 1s 22us/step - loss: 0.1576 - val_loss: 0.1570\n",
      "Epoch 33/50\n",
      "50000/50000 [==============================] - 1s 23us/step - loss: 0.1576 - val_loss: 0.1570\n",
      "Epoch 34/50\n",
      "50000/50000 [==============================] - 1s 23us/step - loss: 0.1576 - val_loss: 0.1570\n",
      "Epoch 35/50\n",
      "50000/50000 [==============================] - 1s 22us/step - loss: 0.1576 - val_loss: 0.1570\n",
      "Epoch 36/50\n",
      "50000/50000 [==============================] - 1s 23us/step - loss: 0.1576 - val_loss: 0.1570\n",
      "Epoch 37/50\n",
      "50000/50000 [==============================] - 1s 27us/step - loss: 0.1576 - val_loss: 0.1570\n",
      "Epoch 38/50\n",
      "50000/50000 [==============================] - 2s 33us/step - loss: 0.1576 - val_loss: 0.1570\n",
      "Epoch 39/50\n",
      "50000/50000 [==============================] - 2s 31us/step - loss: 0.1576 - val_loss: 0.1570\n",
      "Epoch 40/50\n",
      "50000/50000 [==============================] - 1s 23us/step - loss: 0.1576 - val_loss: 0.1570\n",
      "Epoch 41/50\n",
      "50000/50000 [==============================] - 1s 23us/step - loss: 0.1576 - val_loss: 0.1570\n",
      "Epoch 42/50\n",
      "50000/50000 [==============================] - 1s 22us/step - loss: 0.1576 - val_loss: 0.1570\n",
      "Epoch 43/50\n",
      "50000/50000 [==============================] - 1s 23us/step - loss: 0.1576 - val_loss: 0.1570\n",
      "Epoch 44/50\n",
      "50000/50000 [==============================] - 1s 23us/step - loss: 0.1576 - val_loss: 0.1570\n",
      "Epoch 45/50\n",
      "50000/50000 [==============================] - 1s 23us/step - loss: 0.1576 - val_loss: 0.1570\n",
      "Epoch 46/50\n",
      "50000/50000 [==============================] - 1s 23us/step - loss: 0.1576 - val_loss: 0.1570\n",
      "Epoch 47/50\n",
      "50000/50000 [==============================] - 1s 23us/step - loss: 0.1576 - val_loss: 0.1570\n",
      "Epoch 48/50\n",
      "50000/50000 [==============================] - 1s 24us/step - loss: 0.1576 - val_loss: 0.1570\n",
      "Epoch 49/50\n",
      "50000/50000 [==============================] - 1s 24us/step - loss: 0.1576 - val_loss: 0.1570\n",
      "Epoch 50/50\n",
      "50000/50000 [==============================] - 1s 24us/step - loss: 0.1576 - val_loss: 0.1570\n"
     ]
    },
    {
     "data": {
      "text/plain": [
       "<keras.callbacks.History at 0x112e22b38>"
      ]
     },
     "execution_count": 10,
     "metadata": {},
     "output_type": "execute_result"
    }
   ],
   "source": [
    "vae.fit(x_train,\n",
    "        epochs=epochs,\n",
    "        batch_size=batch_size,\n",
    "        validation_data=(x_test, None))"
   ]
  },
  {
   "cell_type": "code",
   "execution_count": 12,
   "metadata": {},
   "outputs": [],
   "source": [
    "from tqdm import tqdm"
   ]
  },
  {
   "cell_type": "code",
   "execution_count": 13,
   "metadata": {},
   "outputs": [
    {
     "name": "stderr",
     "output_type": "stream",
     "text": [
      "100it [00:05, 18.08it/s]\n"
     ]
    }
   ],
   "source": [
    "grid_x = np.linspace(-2, 2, 100)\n",
    "grid_y = np.linspace(-2, 2, 100)[::-1]\n",
    "\n",
    "gen_data = []\n",
    "for i, yi in tqdm(enumerate(grid_y)):\n",
    "    for j, xi in enumerate(grid_x):\n",
    "        z_sample = np.array([[xi, yi]])\n",
    "        x_decoded = decoder.predict(z_sample)\n",
    "        gen_data.append(x_decoded[0])\n",
    "        #print(z_sample.shape)\n",
    "\n",
    "gen_data = np.array(gen_data)"
   ]
  },
  {
   "cell_type": "code",
   "execution_count": 15,
   "metadata": {},
   "outputs": [],
   "source": [
    "ids = np.random.choice(10000, 100)\n",
    "def series_from_returns(start, returns):\n",
    "    res = [start]\n",
    "    for ret in returns:\n",
    "        res.append(res[-1]*ret + res[-1])\n",
    "    return res"
   ]
  },
  {
   "cell_type": "code",
   "execution_count": 17,
   "metadata": {},
   "outputs": [
    {
     "data": {
      "image/png": "[encoded data removed]",
      "text/plain": [
       "<Figure size 432x288 with 1 Axes>"
      ]
     },
     "metadata": {
      "needs_background": "light"
     },
     "output_type": "display_data"
    }
   ],
   "source": [
    "start = apple['Adj Close'][0]\n",
    "for sample in gen_data[ids]:\n",
    "    plt.plot(series_from_returns(start, sample))"
   ]
  },
  {
   "cell_type": "code",
   "execution_count": 18,
   "metadata": {},
   "outputs": [
    {
     "data": {
      "text/plain": [
       "(0.0040407237, 0.0006488779)"
      ]
     },
     "execution_count": 18,
     "metadata": {},
     "output_type": "execute_result"
    }
   ],
   "source": [
    "np.mean(gen_data), np.std(gen_data)"
   ]
  },
  {
   "cell_type": "code",
   "execution_count": 19,
   "metadata": {},
   "outputs": [
    {
     "data": {
      "text/plain": [
       "(0.003930798688825413, 0.0886432615963365)"
      ]
     },
     "execution_count": 19,
     "metadata": {},
     "output_type": "execute_result"
    }
   ],
   "source": [
    "np.mean(samples), np.std(samples)"
   ]
  },
  {
   "cell_type": "code",
   "execution_count": 20,
   "metadata": {},
   "outputs": [
    {
     "name": "stdout",
     "output_type": "stream",
     "text": [
      "Mean p_value 0.5878100536263432\n"
     ]
    }
   ],
   "source": [
    "from scipy import stats\n",
    "p_value = np.mean([stats.normaltest(gen_data[i]).pvalue for i in ids])\n",
    "print(\"Mean p_value\", p_value)"
   ]
  },
  {
   "cell_type": "markdown",
   "metadata": {},
   "source": [
    "# More Layers"
   ]
  },
  {
   "cell_type": "code",
   "execution_count": 63,
   "metadata": {},
   "outputs": [
    {
     "name": "stdout",
     "output_type": "stream",
     "text": [
      "Model: \"encoder\"\n",
      "__________________________________________________________________________________________________\n",
      "Layer (type)                    Output Shape         Param #     Connected to                     \n",
      "==================================================================================================\n",
      "encoder_input (InputLayer)      (None, 20)           0                                            \n",
      "__________________________________________________________________________________________________\n",
      "reshape_44 (Reshape)            (None, 20, 1)        0           encoder_input[0][0]              \n",
      "__________________________________________________________________________________________________\n",
      "conv1d_32 (Conv1D)              (None, 20, 32)       96          reshape_44[0][0]                 \n",
      "__________________________________________________________________________________________________\n",
      "conv1d_33 (Conv1D)              (None, 20, 64)       4160        conv1d_32[0][0]                  \n",
      "__________________________________________________________________________________________________\n",
      "dense_36 (Dense)                (None, 20, 1)        65          conv1d_33[0][0]                  \n",
      "__________________________________________________________________________________________________\n",
      "reshape_45 (Reshape)            (None, 20)           0           dense_36[0][0]                   \n",
      "__________________________________________________________________________________________________\n",
      "z_mean (Dense)                  (None, 2)            42          reshape_45[0][0]                 \n",
      "__________________________________________________________________________________________________\n",
      "z_log_var (Dense)               (None, 2)            42          reshape_45[0][0]                 \n",
      "__________________________________________________________________________________________________\n",
      "z (Lambda)                      (None, 2)            0           z_mean[0][0]                     \n",
      "                                                                 z_log_var[0][0]                  \n",
      "==================================================================================================\n",
      "Total params: 4,405\n",
      "Trainable params: 4,405\n",
      "Non-trainable params: 0\n",
      "__________________________________________________________________________________________________\n",
      "Model: \"decoder\"\n",
      "_________________________________________________________________\n",
      "Layer (type)                 Output Shape              Param #   \n",
      "=================================================================\n",
      "z_sampling (InputLayer)      (None, 2)                 0         \n",
      "_________________________________________________________________\n",
      "dense_37 (Dense)             (None, 32)                96        \n",
      "_________________________________________________________________\n",
      "dense_38 (Dense)             (None, 20)                660       \n",
      "=================================================================\n",
      "Total params: 756\n",
      "Trainable params: 756\n",
      "Non-trainable params: 0\n",
      "_________________________________________________________________\n"
     ]
    }
   ],
   "source": [
    "from __future__ import absolute_import\n",
    "from __future__ import division\n",
    "from __future__ import print_function\n",
    "\n",
    "from keras.layers import Lambda, Input, Dense, Conv1D, Reshape\n",
    "from keras.models import Model\n",
    "from keras.datasets import mnist\n",
    "from keras.losses import mse, binary_crossentropy\n",
    "from keras.utils import plot_model\n",
    "from keras import backend as K\n",
    "\n",
    "import numpy as np\n",
    "import matplotlib.pyplot as plt\n",
    "import argparse\n",
    "import os\n",
    "\n",
    "\n",
    "# reparameterization trick\n",
    "# instead of sampling from Q(z|X), sample eps = N(0,I)\n",
    "# z = z_mean + sqrt(var)*eps\n",
    "def sampling(args):\n",
    "    \"\"\"Reparameterization trick by sampling fr an isotropic unit Gaussian.\n",
    "\n",
    "    # Arguments\n",
    "        args (tensor): mean and log of variance of Q(z|X)\n",
    "\n",
    "    # Returns\n",
    "        z (tensor): sampled latent vector\n",
    "    \"\"\"\n",
    "\n",
    "    z_mean, z_log_var = args\n",
    "    batch = K.shape(z_mean)[0]\n",
    "    dim = K.int_shape(z_mean)[1]\n",
    "    # by default, random_normal has mean=0 and std=1.0\n",
    "    epsilon = K.random_normal(shape=(batch, dim))\n",
    "    return z_mean + K.exp(0.5 * z_log_var) * epsilon\n",
    "\n",
    "\n",
    "# MNIST dataset\n",
    "\n",
    "x_train = sample_data(seq_length=20)\n",
    "#x_train = x_train.reshape(50000, 20, 1)\n",
    "original_dim = x_train.shape[1]\n",
    "\n",
    "# network parameters\n",
    "input_shape = (original_dim, )\n",
    "intermediate_dim = 32\n",
    "batch_size = 128\n",
    "latent_dim = 2\n",
    "epochs = 50\n",
    "\n",
    "# VAE model = encoder + decoder\n",
    "# build encoder model\n",
    "inputs = Input(shape=input_shape, name='encoder_input')\n",
    "inputs2 = Reshape((original_dim, 1))(inputs)\n",
    "x = Conv1D(filters=intermediate_dim, kernel_size=2, padding='same', activation='relu')(inputs2)\n",
    "x = Conv1D(filters=intermediate_dim*2, kernel_size=2, padding='same', activation='relu')(x)\n",
    "y = Dense(1, activation='relu')(x)\n",
    "y = Reshape((original_dim,))(y)\n",
    "z_mean = Dense(latent_dim, name='z_mean')(y)\n",
    "z_log_var = Dense(latent_dim, name='z_log_var')(y)\n",
    "# #print(x.shape, y.shape)\n",
    "\n",
    "\n",
    "# use reparameterization trick to push the sampling out as input\n",
    "# note that \"output_shape\" isn't necessary with the TensorFlow backend\n",
    "z = Lambda(sampling, output_shape=(latent_dim, ), name='z')([z_mean, z_log_var])\n",
    "\n",
    "# instantiate encoder model\n",
    "encoder = Model(inputs, [z_mean, z_log_var, z], name='encoder')\n",
    "encoder.summary()\n",
    "#plot_model(encoder, to_file='vae_mlp_encoder.png', show_shapes=True)\n",
    "\n",
    "# build decoder model\n",
    "latent_inputs = Input(shape=(latent_dim,), name='z_sampling')\n",
    "x = Dense(intermediate_dim, activation='relu')(latent_inputs)\n",
    "# y = Reshape((intermediate_dim, 1))(x)\n",
    "# y = Conv1D(filters=intermediate_dim, kernel_size=2, padding='same', activation='relu')(y)\n",
    "# y = Conv1D(filters=intermediate_dim*2, kernel_size=4, padding='same', activation='relu')(y)\n",
    "# y = Dense(1, activation='relu')(y)\n",
    "# w = Reshape((intermediate_dim,))(y)\n",
    "outputs = Dense(original_dim, activation='sigmoid')(x)\n",
    "\n",
    "# instantiate decoder model\n",
    "decoder = Model(latent_inputs, outputs, name='decoder')\n",
    "decoder.summary()\n",
    "#plot_model(decoder, to_file='vae_mlp_decoder.png', show_shapes=True)\n",
    "\n",
    "# instantiate VAE model\n",
    "outputs = decoder(encoder(inputs)[2])\n",
    "vae = Model(inputs, outputs, name='vae_mlp')"
   ]
  },
  {
   "cell_type": "code",
   "execution_count": 64,
   "metadata": {},
   "outputs": [
    {
     "name": "stdout",
     "output_type": "stream",
     "text": [
      "Model: \"vae_mlp\"\n",
      "_________________________________________________________________\n",
      "Layer (type)                 Output Shape              Param #   \n",
      "=================================================================\n",
      "encoder_input (InputLayer)   (None, 20)                0         \n",
      "_________________________________________________________________\n",
      "encoder (Model)              [(None, 2), (None, 2), (N 4405      \n",
      "_________________________________________________________________\n",
      "decoder (Model)              (None, 20)                756       \n",
      "=================================================================\n",
      "Total params: 5,161\n",
      "Trainable params: 5,161\n",
      "Non-trainable params: 0\n",
      "_________________________________________________________________\n"
     ]
    }
   ],
   "source": [
    "models = (encoder, decoder)\n",
    "reconstruction_loss = mse(inputs, outputs)\n",
    "reconstruction_loss *= original_dim\n",
    "kl_loss = 1 + z_log_var - K.square(z_mean) - K.exp(z_log_var)\n",
    "kl_loss = K.sum(kl_loss, axis=-1)\n",
    "kl_loss *= -0.5\n",
    "vae_loss = K.mean(reconstruction_loss + kl_loss)\n",
    "vae.add_loss(vae_loss)\n",
    "vae.compile(optimizer='adam')\n",
    "vae.summary()"
   ]
  },
  {
   "cell_type": "code",
   "execution_count": 65,
   "metadata": {},
   "outputs": [],
   "source": [
    "x_test = sample_data(10000, seq_length=20)\n",
    "#x_test = x_test.reshape(10000, 20, 1)"
   ]
  },
  {
   "cell_type": "code",
   "execution_count": 66,
   "metadata": {},
   "outputs": [
    {
     "name": "stdout",
     "output_type": "stream",
     "text": [
      "Train on 50000 samples, validate on 10000 samples\n",
      "Epoch 1/50\n",
      "50000/50000 [==============================] - 4s 71us/step - loss: 1.3707 - val_loss: 0.2327\n",
      "Epoch 2/50\n",
      "50000/50000 [==============================] - 3s 50us/step - loss: 0.1874 - val_loss: 0.1689\n",
      "Epoch 3/50\n",
      "50000/50000 [==============================] - 2s 49us/step - loss: 0.1638 - val_loss: 0.1615\n",
      "Epoch 4/50\n",
      "50000/50000 [==============================] - 2s 49us/step - loss: 0.1597 - val_loss: 0.1593\n",
      "Epoch 5/50\n",
      "50000/50000 [==============================] - 3s 50us/step - loss: 0.1584 - val_loss: 0.1585\n",
      "Epoch 6/50\n",
      "50000/50000 [==============================] - 2s 50us/step - loss: 0.1578 - val_loss: 0.1582\n",
      "Epoch 7/50\n",
      "50000/50000 [==============================] - 2s 49us/step - loss: 0.1575 - val_loss: 0.1579\n",
      "Epoch 8/50\n",
      "50000/50000 [==============================] - 2s 50us/step - loss: 0.1574 - val_loss: 0.1579\n",
      "Epoch 9/50\n",
      "50000/50000 [==============================] - 2s 49us/step - loss: 0.1573 - val_loss: 0.1578\n",
      "Epoch 10/50\n",
      "50000/50000 [==============================] - 2s 50us/step - loss: 0.1572 - val_loss: 0.1577\n",
      "Epoch 11/50\n",
      "50000/50000 [==============================] - 2s 49us/step - loss: 0.1572 - val_loss: 0.1577\n",
      "Epoch 12/50\n",
      "50000/50000 [==============================] - 3s 50us/step - loss: 0.1572 - val_loss: 0.1577\n",
      "Epoch 13/50\n",
      "50000/50000 [==============================] - 2s 49us/step - loss: 0.1572 - val_loss: 0.1576\n",
      "Epoch 14/50\n",
      "50000/50000 [==============================] - 2s 50us/step - loss: 0.1572 - val_loss: 0.1577\n",
      "Epoch 15/50\n",
      "50000/50000 [==============================] - 3s 56us/step - loss: 0.1571 - val_loss: 0.1576\n",
      "Epoch 16/50\n",
      "50000/50000 [==============================] - 3s 52us/step - loss: 0.1572 - val_loss: 0.1576\n",
      "Epoch 17/50\n",
      "50000/50000 [==============================] - 5s 97us/step - loss: 0.1571 - val_loss: 0.1576\n",
      "Epoch 18/50\n",
      "50000/50000 [==============================] - 4s 77us/step - loss: 0.1572 - val_loss: 0.1576\n",
      "Epoch 19/50\n",
      "50000/50000 [==============================] - 3s 64us/step - loss: 0.1571 - val_loss: 0.1576\n",
      "Epoch 20/50\n",
      "50000/50000 [==============================] - 3s 58us/step - loss: 0.1571 - val_loss: 0.1576\n",
      "Epoch 21/50\n",
      "50000/50000 [==============================] - 3s 55us/step - loss: 0.1571 - val_loss: 0.1576\n",
      "Epoch 22/50\n",
      "50000/50000 [==============================] - 3s 53us/step - loss: 0.1571 - val_loss: 0.1576\n",
      "Epoch 23/50\n",
      "50000/50000 [==============================] - 3s 69us/step - loss: 0.1571 - val_loss: 0.1576\n",
      "Epoch 24/50\n",
      "50000/50000 [==============================] - 2s 46us/step - loss: 0.1571 - val_loss: 0.1576\n",
      "Epoch 25/50\n",
      "50000/50000 [==============================] - 2s 46us/step - loss: 0.1571 - val_loss: 0.1576\n",
      "Epoch 26/50\n",
      "50000/50000 [==============================] - 2s 45us/step - loss: 0.1571 - val_loss: 0.1576\n",
      "Epoch 27/50\n",
      "50000/50000 [==============================] - 2s 46us/step - loss: 0.1571 - val_loss: 0.1576\n",
      "Epoch 28/50\n",
      "50000/50000 [==============================] - 2s 45us/step - loss: 0.1571 - val_loss: 0.1576\n",
      "Epoch 29/50\n",
      "50000/50000 [==============================] - 2s 45us/step - loss: 0.1571 - val_loss: 0.1576\n",
      "Epoch 30/50\n",
      "50000/50000 [==============================] - 2s 45us/step - loss: 0.1571 - val_loss: 0.1576\n",
      "Epoch 31/50\n",
      "50000/50000 [==============================] - 2s 48us/step - loss: 0.1571 - val_loss: 0.1576\n",
      "Epoch 32/50\n",
      "50000/50000 [==============================] - 2s 45us/step - loss: 0.1571 - val_loss: 0.1576\n",
      "Epoch 33/50\n",
      "50000/50000 [==============================] - 2s 45us/step - loss: 0.1571 - val_loss: 0.1576\n",
      "Epoch 34/50\n",
      "50000/50000 [==============================] - 2s 44us/step - loss: 0.1571 - val_loss: 0.1576\n",
      "Epoch 35/50\n",
      "50000/50000 [==============================] - 2s 47us/step - loss: 0.1571 - val_loss: 0.1576\n",
      "Epoch 36/50\n",
      "50000/50000 [==============================] - 3s 58us/step - loss: 0.1571 - val_loss: 0.1576\n",
      "Epoch 37/50\n",
      "50000/50000 [==============================] - 2s 49us/step - loss: 0.1571 - val_loss: 0.1576\n",
      "Epoch 38/50\n",
      "50000/50000 [==============================] - 2s 47us/step - loss: 0.1571 - val_loss: 0.1576\n",
      "Epoch 39/50\n",
      "50000/50000 [==============================] - 2s 45us/step - loss: 0.1571 - val_loss: 0.1576\n",
      "Epoch 40/50\n",
      "50000/50000 [==============================] - 3s 52us/step - loss: 0.1571 - val_loss: 0.1576\n",
      "Epoch 41/50\n",
      "50000/50000 [==============================] - 3s 65us/step - loss: 0.1571 - val_loss: 0.1576\n",
      "Epoch 42/50\n",
      "50000/50000 [==============================] - 2s 44us/step - loss: 0.1571 - val_loss: 0.1576\n",
      "Epoch 43/50\n",
      "50000/50000 [==============================] - 2s 44us/step - loss: 0.1571 - val_loss: 0.1576\n",
      "Epoch 44/50\n",
      "50000/50000 [==============================] - 2s 47us/step - loss: 0.1571 - val_loss: 0.1576\n",
      "Epoch 45/50\n",
      "50000/50000 [==============================] - 2s 45us/step - loss: 0.1571 - val_loss: 0.1576\n",
      "Epoch 46/50\n",
      "50000/50000 [==============================] - 2s 46us/step - loss: 0.1571 - val_loss: 0.1576\n",
      "Epoch 47/50\n",
      "50000/50000 [==============================] - 2s 48us/step - loss: 0.1571 - val_loss: 0.1576\n",
      "Epoch 48/50\n",
      "50000/50000 [==============================] - 3s 57us/step - loss: 0.1571 - val_loss: 0.1576\n",
      "Epoch 49/50\n",
      "50000/50000 [==============================] - 4s 86us/step - loss: 0.1571 - val_loss: 0.1576\n",
      "Epoch 50/50\n",
      "50000/50000 [==============================] - 3s 50us/step - loss: 0.1571 - val_loss: 0.1576\n"
     ]
    },
    {
     "data": {
      "text/plain": [
       "<keras.callbacks.History at 0x13f0d60f0>"
      ]
     },
     "execution_count": 66,
     "metadata": {},
     "output_type": "execute_result"
    }
   ],
   "source": [
    "vae.fit(x_train,\n",
    "        epochs=epochs,\n",
    "        batch_size=batch_size,\n",
    "        validation_data=(x_test, None))"
   ]
  },
  {
   "cell_type": "code",
   "execution_count": 67,
   "metadata": {},
   "outputs": [
    {
     "name": "stderr",
     "output_type": "stream",
     "text": [
      "100it [00:06, 15.05it/s]\n"
     ]
    }
   ],
   "source": [
    "grid_x = np.linspace(-0.1, 0.1, 100)\n",
    "grid_y = np.linspace(-0.1, 0.1, 100)[::-1]\n",
    "\n",
    "gen_data = []\n",
    "for i, yi in tqdm(enumerate(grid_y)):\n",
    "    for j, xi in enumerate(grid_x):\n",
    "        z_sample = np.array([[xi, yi]])\n",
    "        x_decoded = decoder.predict(z_sample)\n",
    "        gen_data.append(x_decoded[0])\n",
    "        #print(z_sample.shape)\n",
    "\n",
    "gen_data = np.array(gen_data)"
   ]
  },
  {
   "cell_type": "code",
   "execution_count": 68,
   "metadata": {},
   "outputs": [],
   "source": [
    "ids = np.random.choice(10000, 100)\n",
    "def series_from_returns(start, returns):\n",
    "    res = [start]\n",
    "    for ret in returns:\n",
    "        res.append(res[-1]*ret + res[-1])\n",
    "    return res"
   ]
  },
  {
   "cell_type": "code",
   "execution_count": 69,
   "metadata": {},
   "outputs": [
    {
     "data": {
      "image/png": "[encoded data removed]",
      "text/plain": [
       "<Figure size 432x288 with 1 Axes>"
      ]
     },
     "metadata": {
      "needs_background": "light"
     },
     "output_type": "display_data"
    }
   ],
   "source": [
    "start = apple['Adj Close'][0]\n",
    "for sample in gen_data[ids]:\n",
    "    plt.plot(series_from_returns(start, sample))"
   ]
  },
  {
   "cell_type": "code",
   "execution_count": 70,
   "metadata": {},
   "outputs": [
    {
     "data": {
      "text/plain": [
       "(0.0038205015, 0.0003228459)"
      ]
     },
     "execution_count": 70,
     "metadata": {},
     "output_type": "execute_result"
    }
   ],
   "source": [
    "np.mean(gen_data), np.std(gen_data)"
   ]
  },
  {
   "cell_type": "code",
   "execution_count": 54,
   "metadata": {},
   "outputs": [
    {
     "data": {
      "text/plain": [
       "(0.003924794848461513, 0.08868587895511211)"
      ]
     },
     "execution_count": 54,
     "metadata": {},
     "output_type": "execute_result"
    }
   ],
   "source": [
    "np.mean(x_train), np.std(x_train)"
   ]
  },
  {
   "cell_type": "code",
   "execution_count": 71,
   "metadata": {},
   "outputs": [
    {
     "name": "stdout",
     "output_type": "stream",
     "text": [
      "Mean p_value 0.7766073603134507\n"
     ]
    }
   ],
   "source": [
    "from scipy import stats\n",
    "p_value = np.mean([stats.normaltest(gen_data[i]).pvalue for i in ids])\n",
    "print(\"Mean p_value\", p_value)"
   ]
  },
  {
   "cell_type": "code",
   "execution_count": 42,
   "metadata": {},
   "outputs": [
    {
     "name": "stdout",
     "output_type": "stream",
     "text": [
      "Mean p_value 0.835393710913806\n"
     ]
    }
   ],
   "source": [
    "from scipy import stats\n",
    "p_value = np.mean([stats.normaltest(gen_data[i]).pvalue for i in ids])\n",
    "print(\"Mean p_value\", p_value)"
   ]
  },
  {
   "cell_type": "code",
   "execution_count": 61,
   "metadata": {},
   "outputs": [
    {
     "data": {
      "text/plain": [
       "(5.461905e-05, 5.461905e-05)"
      ]
     },
     "execution_count": 61,
     "metadata": {},
     "output_type": "execute_result"
    }
   ],
   "source": [
    "predicts = encoder.predict(x_train)\n",
    "max([x[0] for x in predicts[0]]), min([x[0] for x in predicts[0]])"
   ]
  },
  {
   "cell_type": "code",
   "execution_count": null,
   "metadata": {},
   "outputs": [],
   "source": []
  }
 ],
 "metadata": {
  "kernelspec": {
   "display_name": "Python 3",
   "language": "python",
   "name": "python3"
  },
  "language_info": {
   "codemirror_mode": {
    "name": "ipython",
    "version": 3
   },
   "file_extension": ".py",
   "mimetype": "text/x-python",
   "name": "python",
   "nbconvert_exporter": "python",
   "pygments_lexer": "ipython3",
   "version": "3.7.3"
  }
 },
 "nbformat": 4,
 "nbformat_minor": 2
}
