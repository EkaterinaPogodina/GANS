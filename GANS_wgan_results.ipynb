{
  "nbformat": 4,
  "nbformat_minor": 0,
  "metadata": {
    "kernelspec": {
      "name": "python3",
      "display_name": "Python 3"
    },
    "language_info": {
      "codemirror_mode": {
        "name": "ipython",
        "version": 3
      },
      "file_extension": ".py",
      "mimetype": "text/x-python",
      "name": "python",
      "nbconvert_exporter": "python",
      "pygments_lexer": "ipython3",
      "version": "3.7.3"
    },
    "colab": {
      "name": "GANS-wgan-results.ipynb",
      "version": "0.3.2",
      "provenance": [],
      "toc_visible": true
    },
    "accelerator": "GPU"
  },
  "cells": [
    {
      "cell_type": "code",
      "metadata": {
        "id": "p88HQxNSZ1nb",
        "colab_type": "code",
        "colab": {}
      },
      "source": [
        "import math \n",
        "import numpy as np \n",
        "import pandas as pd \n",
        "import matplotlib.pyplot as plt \n",
        "from pandas_datareader import data \n",
        "#from tensorflow.contrib.rnn import LSTMCell tf.logging.set_verbosity(tf.logging.ERROR) \n",
        "from time import time \n",
        "from matplotlib.colors import hsv_to_rgb\n",
        "from scipy.stats import ks_2samp"
      ],
      "execution_count": 0,
      "outputs": []
    },
    {
      "cell_type": "code",
      "metadata": {
        "id": "KTnq3FJCZ9o2",
        "colab_type": "code",
        "colab": {
          "base_uri": "https://localhost:8080/",
          "height": 148
        },
        "outputId": "13b603bc-0fe4-4b79-b63e-6486f6c7cdb5"
      },
      "source": [
        "! git clone https://github.com/EkaterinaPogodina/GANS.git"
      ],
      "execution_count": 2,
      "outputs": [
        {
          "output_type": "stream",
          "text": [
            "Cloning into 'GANS'...\n",
            "remote: Enumerating objects: 6, done.\u001b[K\n",
            "remote: Counting objects:  16% (1/6)\u001b[K\rremote: Counting objects:  33% (2/6)\u001b[K\rremote: Counting objects:  50% (3/6)\u001b[K\rremote: Counting objects:  66% (4/6)\u001b[K\rremote: Counting objects:  83% (5/6)\u001b[K\rremote: Counting objects: 100% (6/6)\u001b[K\rremote: Counting objects: 100% (6/6), done.\u001b[K\n",
            "remote: Compressing objects:  16% (1/6)\u001b[K\rremote: Compressing objects:  33% (2/6)\u001b[K\rremote: Compressing objects:  50% (3/6)\u001b[K\rremote: Compressing objects:  66% (4/6)\u001b[K\rremote: Compressing objects:  83% (5/6)\u001b[K\rremote: Compressing objects: 100% (6/6)\u001b[K\rremote: Compressing objects: 100% (6/6), done.\u001b[K\n",
            "remote: Total 6 (delta 0), reused 6 (delta 0), pack-reused 0\u001b[K\n",
            "Unpacking objects:  16% (1/6)   \rUnpacking objects:  33% (2/6)   \rUnpacking objects:  50% (3/6)   \rUnpacking objects:  66% (4/6)   \rUnpacking objects:  83% (5/6)   \rUnpacking objects: 100% (6/6)   \rUnpacking objects: 100% (6/6), done.\n"
          ],
          "name": "stdout"
        }
      ]
    },
    {
      "cell_type": "markdown",
      "metadata": {
        "id": "GnfjK1t1Z1no",
        "colab_type": "text"
      },
      "source": [
        "## Reading data"
      ]
    },
    {
      "cell_type": "code",
      "metadata": {
        "id": "aN88CBA8Z1ns",
        "colab_type": "code",
        "colab": {}
      },
      "source": [
        "apple = data.DataReader('AFI.AX', 'yahoo', start='1/1/2010', end= '1/10/2015')\n",
        "apple['Returns'] = apple['Adj Close'].pct_change()\n",
        "# mu = apple['Returns'].mean()\n",
        "# std = apple['Returns'].std()"
      ],
      "execution_count": 0,
      "outputs": []
    },
    {
      "cell_type": "markdown",
      "metadata": {
        "id": "is5TmnElZ1n0",
        "colab_type": "text"
      },
      "source": [
        "### Just looking at original series, not returns"
      ]
    },
    {
      "cell_type": "code",
      "metadata": {
        "id": "0eVKEzo3Z1n3",
        "colab_type": "code",
        "colab": {}
      },
      "source": [
        "mu = apple['Adj Close'].mean()\n",
        "std = apple['Adj Close'].std()"
      ],
      "execution_count": 0,
      "outputs": []
    },
    {
      "cell_type": "code",
      "metadata": {
        "id": "ZgmmzPpKZ1n8",
        "colab_type": "code",
        "colab": {
          "base_uri": "https://localhost:8080/",
          "height": 34
        },
        "outputId": "107b099c-5dd5-40b4-8b12-50ce4bd8dd06"
      },
      "source": [
        "mu, std"
      ],
      "execution_count": 5,
      "outputs": [
        {
          "output_type": "execute_result",
          "data": {
            "text/plain": [
              "(5.680612396854925, 0.7699040681456586)"
            ]
          },
          "metadata": {
            "tags": []
          },
          "execution_count": 5
        }
      ]
    },
    {
      "cell_type": "code",
      "metadata": {
        "id": "KoDJkjz9Z1oM",
        "colab_type": "code",
        "colab": {}
      },
      "source": [
        "def sample_data(n_samples=50000, seq_length=10):\n",
        "\n",
        "    vectors = []\n",
        "\n",
        "    for i in range(n_samples):\n",
        "        daily_returns=np.random.normal(mu, std, seq_length)\n",
        "        vectors.append(daily_returns)\n",
        "    \n",
        "    return np.asarray(vectors)"
      ],
      "execution_count": 0,
      "outputs": []
    },
    {
      "cell_type": "code",
      "metadata": {
        "id": "ZSqcw9M2Z1oQ",
        "colab_type": "code",
        "colab": {}
      },
      "source": [
        "def series_from_returns(start, returns):\n",
        "    res = [start]\n",
        "    for ret in returns:\n",
        "        res.append(res[-1]*ret + res[-1])\n",
        "    return res"
      ],
      "execution_count": 0,
      "outputs": []
    },
    {
      "cell_type": "code",
      "metadata": {
        "id": "rAPD_3kXZ1oc",
        "colab_type": "code",
        "colab": {}
      },
      "source": [
        "samples = sample_data()"
      ],
      "execution_count": 0,
      "outputs": []
    },
    {
      "cell_type": "code",
      "metadata": {
        "id": "Y2CsXIPHZ1oi",
        "colab_type": "code",
        "colab": {
          "base_uri": "https://localhost:8080/",
          "height": 34
        },
        "outputId": "80f745e6-e9a0-4559-9947-e9340609bfdc"
      },
      "source": [
        "samples.mean(), samples.std()"
      ],
      "execution_count": 9,
      "outputs": [
        {
          "output_type": "execute_result",
          "data": {
            "text/plain": [
              "(5.681349246639288, 0.7695009800857481)"
            ]
          },
          "metadata": {
            "tags": []
          },
          "execution_count": 9
        }
      ]
    },
    {
      "cell_type": "code",
      "metadata": {
        "id": "F6HnzWx9Z1on",
        "colab_type": "code",
        "colab": {
          "base_uri": "https://localhost:8080/",
          "height": 584
        },
        "outputId": "f9264727-15c6-4094-ba84-dedbe9c500c6"
      },
      "source": [
        "plt.hist(np.log(apple['Returns'] + 1), bins=30)"
      ],
      "execution_count": 10,
      "outputs": [
        {
          "output_type": "stream",
          "text": [
            "/usr/local/lib/python3.6/dist-packages/numpy/lib/histograms.py:824: RuntimeWarning: invalid value encountered in greater_equal\n",
            "  keep = (tmp_a >= first_edge)\n",
            "/usr/local/lib/python3.6/dist-packages/numpy/lib/histograms.py:825: RuntimeWarning: invalid value encountered in less_equal\n",
            "  keep &= (tmp_a <= last_edge)\n"
          ],
          "name": "stderr"
        },
        {
          "output_type": "execute_result",
          "data": {
            "text/plain": [
              "(array([  3.,  12.,  19.,  11.,  14.,   5.,  11.,   6.,   8.,   8.,   8.,\n",
              "          3.,  10., 110., 799., 122.,   9.,   2.,   6.,   9.,   7.,   4.,\n",
              "          8.,  11.,  13.,  10.,  19.,  13.,   2.,   3.]),\n",
              " array([-0.30974917, -0.28842928, -0.26710938, -0.24578949, -0.2244696 ,\n",
              "        -0.2031497 , -0.18182981, -0.16050992, -0.13919002, -0.11787013,\n",
              "        -0.09655023, -0.07523034, -0.05391045, -0.03259055, -0.01127066,\n",
              "         0.01004923,  0.03136913,  0.05268902,  0.07400891,  0.09532881,\n",
              "         0.1166487 ,  0.13796859,  0.15928849,  0.18060838,  0.20192828,\n",
              "         0.22324817,  0.24456806,  0.26588796,  0.28720785,  0.30852774,\n",
              "         0.32984764]),\n",
              " <a list of 30 Patch objects>)"
            ]
          },
          "metadata": {
            "tags": []
          },
          "execution_count": 10
        },
        {
          "output_type": "display_data",
          "data": {
            "image/png": "[encoded data removed]",
            "text/plain": [
              "<Figure size 432x288 with 1 Axes>"
            ]
          },
          "metadata": {
            "tags": []
          }
        }
      ]
    },
    {
      "cell_type": "markdown",
      "metadata": {
        "id": "ivj-8zLRZ1or",
        "colab_type": "text"
      },
      "source": [
        "## WGAN architecture"
      ]
    },
    {
      "cell_type": "code",
      "metadata": {
        "id": "WrGpOxgxZ1ot",
        "colab_type": "code",
        "colab": {}
      },
      "source": [
        "%load_ext autoreload\n",
        "%autoreload\n",
        "from GANS.wgan import WGAN"
      ],
      "execution_count": 0,
      "outputs": []
    },
    {
      "cell_type": "code",
      "metadata": {
        "id": "JTa2RdtcZ1o7",
        "colab_type": "code",
        "colab": {}
      },
      "source": [
        "samples = sample_data()"
      ],
      "execution_count": 0,
      "outputs": []
    },
    {
      "cell_type": "code",
      "metadata": {
        "id": "Ib6NSf6dZ1pA",
        "colab_type": "code",
        "colab": {
          "base_uri": "https://localhost:8080/",
          "height": 573
        },
        "outputId": "8d866dbd-352f-41d8-9577-c1d0c6f3fc28"
      },
      "source": [
        "gan = WGAN(num_epochs=10)"
      ],
      "execution_count": 13,
      "outputs": [
        {
          "output_type": "stream",
          "text": [
            "WARNING: Logging before flag parsing goes to stderr.\n",
            "W0828 18:07:00.831944 140019770812288 deprecation_wrapper.py:119] From /content/GANS/gan.py:12: The name tf.reset_default_graph is deprecated. Please use tf.compat.v1.reset_default_graph instead.\n",
            "\n",
            "W0828 18:07:00.835236 140019770812288 deprecation_wrapper.py:119] From /content/GANS/dcgan.py:9: The name tf.placeholder is deprecated. Please use tf.compat.v1.placeholder instead.\n",
            "\n",
            "W0828 18:07:00.852919 140019770812288 deprecation_wrapper.py:119] From /content/GANS/dcgan.py:26: The name tf.variable_scope is deprecated. Please use tf.compat.v1.variable_scope instead.\n",
            "\n",
            "W0828 18:07:00.854457 140019770812288 deprecation.py:323] From /content/GANS/dcgan.py:30: conv1d (from tensorflow.python.layers.convolutional) is deprecated and will be removed in a future version.\n",
            "Instructions for updating:\n",
            "Use `tf.keras.layers.Conv1D` instead.\n",
            "W0828 18:07:00.864805 140019770812288 deprecation.py:506] From /usr/local/lib/python3.6/dist-packages/tensorflow/python/ops/init_ops.py:1251: calling VarianceScaling.__init__ (from tensorflow.python.ops.init_ops) with dtype is deprecated and will be removed in a future version.\n",
            "Instructions for updating:\n",
            "Call initializer instance with the dtype argument instead of passing it to the constructor\n",
            "W0828 18:07:01.020365 140019770812288 deprecation.py:323] From /content/GANS/dcgan.py:33: dense (from tensorflow.python.layers.core) is deprecated and will be removed in a future version.\n",
            "Instructions for updating:\n",
            "Use keras.layers.dense instead.\n",
            "W0828 18:07:01.591016 140019770812288 deprecation_wrapper.py:119] From /content/GANS/wgan.py:10: The name tf.global_variables is deprecated. Please use tf.compat.v1.global_variables instead.\n",
            "\n",
            "W0828 18:07:01.639706 140019770812288 deprecation_wrapper.py:119] From /content/GANS/gan.py:33: The name tf.trainable_variables is deprecated. Please use tf.compat.v1.trainable_variables instead.\n",
            "\n",
            "W0828 18:07:01.648009 140019770812288 deprecation.py:323] From /usr/local/lib/python3.6/dist-packages/tensorflow/python/ops/nn_impl.py:180: add_dispatch_support.<locals>.wrapper (from tensorflow.python.ops.array_ops) is deprecated and will be removed in a future version.\n",
            "Instructions for updating:\n",
            "Use tf.where in 2.0, which has the same broadcast rule as np.where\n",
            "W0828 18:07:01.679629 140019770812288 deprecation_wrapper.py:119] From /content/GANS/wgan.py:41: The name tf.train.RMSPropOptimizer is deprecated. Please use tf.compat.v1.train.RMSPropOptimizer instead.\n",
            "\n",
            "W0828 18:07:01.906931 140019770812288 deprecation.py:506] From /usr/local/lib/python3.6/dist-packages/tensorflow/python/training/rmsprop.py:119: calling Ones.__init__ (from tensorflow.python.ops.init_ops) with dtype is deprecated and will be removed in a future version.\n",
            "Instructions for updating:\n",
            "Call initializer instance with the dtype argument instead of passing it to the constructor\n"
          ],
          "name": "stderr"
        }
      ]
    },
    {
      "cell_type": "code",
      "metadata": {
        "id": "q5W4p2z_Z1pN",
        "colab_type": "code",
        "colab": {
          "base_uri": "https://localhost:8080/",
          "height": 377
        },
        "outputId": "f7dcd8d2-4931-4e68-c1c1-c4e5c77e4702"
      },
      "source": [
        "gen_samples = gan.train_loop(samples, reshape=True)"
      ],
      "execution_count": 14,
      "outputs": [
        {
          "output_type": "stream",
          "text": [
            "epoch: 0 \tD_loss: 1.4384882 \tG_loss: 0.7454742 \tTotal_loss: 2.1839623\n",
            "epoch: 0 \tD_loss: 0.9853248 \tG_loss: 0.8033811 \tTotal_loss: 1.7887058\n",
            "epoch: 1 \tD_loss: 1.2692525 \tG_loss: 0.61321187 \tTotal_loss: 1.8824644\n",
            "epoch: 1 \tD_loss: 1.4248215 \tG_loss: 0.7473796 \tTotal_loss: 2.1722012\n",
            "epoch: 2 \tD_loss: 1.4238869 \tG_loss: 0.73328584 \tTotal_loss: 2.1571727\n",
            "epoch: 2 \tD_loss: 1.4202548 \tG_loss: 0.72995657 \tTotal_loss: 2.1502113\n",
            "epoch: 3 \tD_loss: 1.4140694 \tG_loss: 0.7280657 \tTotal_loss: 2.1421351\n",
            "epoch: 3 \tD_loss: 1.4130055 \tG_loss: 0.72296304 \tTotal_loss: 2.1359684\n",
            "epoch: 4 \tD_loss: 1.4100047 \tG_loss: 0.71885294 \tTotal_loss: 2.1288576\n",
            "epoch: 4 \tD_loss: 1.407997 \tG_loss: 0.71616626 \tTotal_loss: 2.1241632\n",
            "epoch: 5 \tD_loss: 1.4042264 \tG_loss: 0.7116831 \tTotal_loss: 2.1159096\n",
            "epoch: 5 \tD_loss: 1.4007871 \tG_loss: 0.7087388 \tTotal_loss: 2.109526\n",
            "epoch: 6 \tD_loss: 1.3985704 \tG_loss: 0.70641744 \tTotal_loss: 2.1049879\n",
            "epoch: 6 \tD_loss: 1.3967681 \tG_loss: 0.70385027 \tTotal_loss: 2.1006184\n",
            "epoch: 7 \tD_loss: 1.3956633 \tG_loss: 0.7035688 \tTotal_loss: 2.0992322\n",
            "epoch: 7 \tD_loss: 1.3945563 \tG_loss: 0.7020491 \tTotal_loss: 2.0966053\n",
            "epoch: 8 \tD_loss: 1.3936259 \tG_loss: 0.7007215 \tTotal_loss: 2.0943475\n",
            "epoch: 8 \tD_loss: 1.3928754 \tG_loss: 0.7000596 \tTotal_loss: 2.092935\n",
            "epoch: 9 \tD_loss: 1.3923124 \tG_loss: 0.6997516 \tTotal_loss: 2.092064\n",
            "epoch: 9 \tD_loss: 1.3916519 \tG_loss: 0.6986741 \tTotal_loss: 2.0903258\n"
          ],
          "name": "stdout"
        }
      ]
    },
    {
      "cell_type": "code",
      "metadata": {
        "id": "oJpVz0ZQZ1pS",
        "colab_type": "code",
        "colab": {
          "base_uri": "https://localhost:8080/",
          "height": 300
        },
        "outputId": "78c2e4bf-d3a9-4d3c-8e15-3f877e512066"
      },
      "source": [
        "plt.plot(gan.g_loss[:4000])\n",
        "plt.plot(gan.d_loss[:4000])\n",
        "plt.legend(['generator loss', 'discriminator loss'])\n",
        "plt.xlabel('number of iteration')\n",
        "plt.ylabel('loss')"
      ],
      "execution_count": 15,
      "outputs": [
        {
          "output_type": "execute_result",
          "data": {
            "text/plain": [
              "Text(0, 0.5, 'loss')"
            ]
          },
          "metadata": {
            "tags": []
          },
          "execution_count": 15
        },
        {
          "output_type": "display_data",
          "data": {
            "image/png": "[encoded data removed]",
            "text/plain": [
              "<Figure size 432x288 with 1 Axes>"
            ]
          },
          "metadata": {
            "tags": []
          }
        }
      ]
    },
    {
      "cell_type": "code",
      "metadata": {
        "id": "RwoO0llVZ1pZ",
        "colab_type": "code",
        "colab": {
          "base_uri": "https://localhost:8080/",
          "height": 34
        },
        "outputId": "41a36207-b745-43f6-b6a2-8d984585b9bc"
      },
      "source": [
        "gen_samples.mean(), gen_samples.std()"
      ],
      "execution_count": 16,
      "outputs": [
        {
          "output_type": "execute_result",
          "data": {
            "text/plain": [
              "(5.656593, 0.8449722)"
            ]
          },
          "metadata": {
            "tags": []
          },
          "execution_count": 16
        }
      ]
    },
    {
      "cell_type": "code",
      "metadata": {
        "id": "awLDjpZCrLMu",
        "colab_type": "code",
        "colab": {}
      },
      "source": [
        "from scipy import stats"
      ],
      "execution_count": 0,
      "outputs": []
    },
    {
      "cell_type": "code",
      "metadata": {
        "id": "4W2ivV5PZ1pd",
        "colab_type": "code",
        "colab": {
          "base_uri": "https://localhost:8080/",
          "height": 151
        },
        "outputId": "59ddbb1b-4e16-4f2f-8273-29ff2e9a2b10"
      },
      "source": [
        "reshaped_gen_samples = gen_samples.reshape(49980, 10)\n",
        "p_value = np.mean([stats.normaltest(reshaped_gen_samples[i]).pvalue for i in range(1000)])"
      ],
      "execution_count": 20,
      "outputs": [
        {
          "output_type": "stream",
          "text": [
            "/usr/local/lib/python3.6/dist-packages/scipy/stats/stats.py:1450: UserWarning: kurtosistest only valid for n>=20 ... continuing anyway, n=10\n",
            "  \"anyway, n=%i\" % int(n))\n"
          ],
          "name": "stderr"
        }
      ]
    },
    {
      "cell_type": "markdown",
      "metadata": {
        "id": "nlIviBtmrVTE",
        "colab_type": "text"
      },
      "source": [
        "### Normal test p_value:"
      ]
    },
    {
      "cell_type": "code",
      "metadata": {
        "id": "a_EePLEurKjP",
        "colab_type": "code",
        "colab": {
          "base_uri": "https://localhost:8080/",
          "height": 34
        },
        "outputId": "d891fdb4-bf19-4a06-8f04-9ae4abb84493"
      },
      "source": [
        "p_value"
      ],
      "execution_count": 21,
      "outputs": [
        {
          "output_type": "execute_result",
          "data": {
            "text/plain": [
              "0.5199127224456097"
            ]
          },
          "metadata": {
            "tags": []
          },
          "execution_count": 21
        }
      ]
    },
    {
      "cell_type": "markdown",
      "metadata": {
        "id": "XQXNk7a1Z1pg",
        "colab_type": "text"
      },
      "source": [
        "## Seq_length = 50"
      ]
    },
    {
      "cell_type": "code",
      "metadata": {
        "id": "SnkrC1TUZ1ph",
        "colab_type": "code",
        "colab": {}
      },
      "source": [
        "gan2 = WGAN(num_epochs=10, seq_length=50)"
      ],
      "execution_count": 0,
      "outputs": []
    },
    {
      "cell_type": "code",
      "metadata": {
        "id": "gvR1gteLZ1pk",
        "colab_type": "code",
        "colab": {
          "base_uri": "https://localhost:8080/",
          "height": 357
        },
        "outputId": "712282aa-0d52-4927-ff28-3f631c8dae23"
      },
      "source": [
        "samples50 = sample_data(seq_length=50)\n",
        "gen_samples50 = gan2.train_loop(samples50, reshape=True)"
      ],
      "execution_count": 24,
      "outputs": [
        {
          "output_type": "stream",
          "text": [
            "epoch: 0 \tD_loss: 1.517309 \tG_loss: 0.8242836 \tTotal_loss: 2.3415926\n",
            "epoch: 0 \tD_loss: 0.5898601 \tG_loss: 1.1620296 \tTotal_loss: 1.7518897\n",
            "epoch: 1 \tD_loss: 0.9336619 \tG_loss: 0.8835047 \tTotal_loss: 1.8171666\n",
            "epoch: 1 \tD_loss: 1.4830166 \tG_loss: 0.7901683 \tTotal_loss: 2.2731848\n",
            "epoch: 2 \tD_loss: 1.4520278 \tG_loss: 0.75805366 \tTotal_loss: 2.2100816\n",
            "epoch: 2 \tD_loss: 1.4242834 \tG_loss: 0.7315332 \tTotal_loss: 2.1558166\n",
            "epoch: 3 \tD_loss: 1.4126265 \tG_loss: 0.71880764 \tTotal_loss: 2.1314342\n",
            "epoch: 3 \tD_loss: 1.4047801 \tG_loss: 0.7116279 \tTotal_loss: 2.116408\n",
            "epoch: 4 \tD_loss: 1.4001657 \tG_loss: 0.70704734 \tTotal_loss: 2.107213\n",
            "epoch: 4 \tD_loss: 1.3961852 \tG_loss: 0.70354456 \tTotal_loss: 2.0997298\n",
            "epoch: 5 \tD_loss: 1.3941574 \tG_loss: 0.7010662 \tTotal_loss: 2.0952237\n",
            "epoch: 5 \tD_loss: 1.3923734 \tG_loss: 0.6993352 \tTotal_loss: 2.0917087\n",
            "epoch: 6 \tD_loss: 1.3913362 \tG_loss: 0.69821453 \tTotal_loss: 2.0895507\n",
            "epoch: 6 \tD_loss: 1.3905983 \tG_loss: 0.69748753 \tTotal_loss: 2.088086\n",
            "epoch: 7 \tD_loss: 1.3901986 \tG_loss: 0.69709647 \tTotal_loss: 2.087295\n",
            "epoch: 7 \tD_loss: 1.3899134 \tG_loss: 0.6967977 \tTotal_loss: 2.0867112\n",
            "epoch: 8 \tD_loss: 1.3897179 \tG_loss: 0.6966218 \tTotal_loss: 2.0863397\n",
            "epoch: 8 \tD_loss: 1.3895882 \tG_loss: 0.6964688 \tTotal_loss: 2.086057\n",
            "epoch: 9 \tD_loss: 1.3894506 \tG_loss: 0.69636357 \tTotal_loss: 2.085814\n",
            "epoch: 9 \tD_loss: 1.3893758 \tG_loss: 0.69624364 \tTotal_loss: 2.0856194\n"
          ],
          "name": "stdout"
        }
      ]
    },
    {
      "cell_type": "code",
      "metadata": {
        "id": "GVBR5uWXZ1pp",
        "colab_type": "code",
        "colab": {
          "base_uri": "https://localhost:8080/",
          "height": 300
        },
        "outputId": "a5683511-1711-4d88-8a2f-f7c711daf36d"
      },
      "source": [
        "plt.plot(gan2.g_loss[:4000])\n",
        "plt.plot(gan2.d_loss[:4000])\n",
        "plt.legend(['generator loss', 'discriminator loss'])\n",
        "plt.xlabel('number of iteration')\n",
        "plt.ylabel('loss')"
      ],
      "execution_count": 25,
      "outputs": [
        {
          "output_type": "execute_result",
          "data": {
            "text/plain": [
              "Text(0, 0.5, 'loss')"
            ]
          },
          "metadata": {
            "tags": []
          },
          "execution_count": 25
        },
        {
          "output_type": "display_data",
          "data": {
            "image/png": "[encoded data removed]",
            "text/plain": [
              "<Figure size 432x288 with 1 Axes>"
            ]
          },
          "metadata": {
            "tags": []
          }
        }
      ]
    },
    {
      "cell_type": "code",
      "metadata": {
        "id": "gMcG5K_2Z1ps",
        "colab_type": "code",
        "colab": {},
        "outputId": "01b6699c-6824-4a15-cf7b-5fa114270fb3"
      },
      "source": [
        "gen_samples50.mean(), gen_samples50.std()"
      ],
      "execution_count": 0,
      "outputs": [
        {
          "output_type": "execute_result",
          "data": {
            "text/plain": [
              "(5.6464725, 0.6295383)"
            ]
          },
          "metadata": {
            "tags": []
          },
          "execution_count": 19
        }
      ]
    },
    {
      "cell_type": "code",
      "metadata": {
        "id": "9tng4JLZo0Di",
        "colab_type": "code",
        "colab": {
          "base_uri": "https://localhost:8080/",
          "height": 34
        },
        "outputId": "23b40788-76c3-4f3c-e7f2-c13372ca5253"
      },
      "source": [
        "gen_samples50.mean(), gen_samples50.std()"
      ],
      "execution_count": 26,
      "outputs": [
        {
          "output_type": "execute_result",
          "data": {
            "text/plain": [
              "(5.685498, 0.22728209)"
            ]
          },
          "metadata": {
            "tags": []
          },
          "execution_count": 26
        }
      ]
    },
    {
      "cell_type": "code",
      "metadata": {
        "id": "bZ7MQiI9Z1py",
        "colab_type": "code",
        "colab": {},
        "outputId": "bb8d6eeb-7196-4b50-9bc6-bc214cdab422"
      },
      "source": [
        "samples.mean(), samples.std()"
      ],
      "execution_count": 0,
      "outputs": [
        {
          "output_type": "execute_result",
          "data": {
            "text/plain": [
              "(5.679919324400023, 0.7695282446638582)"
            ]
          },
          "metadata": {
            "tags": []
          },
          "execution_count": 21
        }
      ]
    },
    {
      "cell_type": "code",
      "metadata": {
        "id": "AvA0dEZsrlIA",
        "colab_type": "code",
        "colab": {
          "base_uri": "https://localhost:8080/",
          "height": 34
        },
        "outputId": "e60073e2-cbd4-4029-efd3-7764b740c268"
      },
      "source": [
        "all_gen_samples = gen_samples50.reshape(-1, 50)\n",
        "p_value = np.mean([stats.normaltest(all_gen_samples[i]).pvalue for i in range(1000)])\n",
        "print(\"Mean p_value\", p_value)"
      ],
      "execution_count": 27,
      "outputs": [
        {
          "output_type": "stream",
          "text": [
            "Mean p_value 0.49108301739966714\n"
          ],
          "name": "stdout"
        }
      ]
    },
    {
      "cell_type": "markdown",
      "metadata": {
        "id": "R_l-teDHZ1p1",
        "colab_type": "text"
      },
      "source": [
        "# Black-Scholes formula"
      ]
    },
    {
      "cell_type": "code",
      "metadata": {
        "id": "JdjaE6LSZ1p2",
        "colab_type": "code",
        "colab": {}
      },
      "source": [
        "import numpy as np\n",
        "import scipy.stats as si\n",
        "# import sympy as sy\n",
        "# import sympy.statistics as systats"
      ],
      "execution_count": 0,
      "outputs": []
    },
    {
      "cell_type": "code",
      "metadata": {
        "id": "oW-Ae6dgZ1p4",
        "colab_type": "code",
        "colab": {}
      },
      "source": [
        "def euro_vanilla_call(S, K, T, r, sigma):\n",
        "    \n",
        "    #S: spot price\n",
        "    #K: strike price\n",
        "    #T: time to maturity\n",
        "    #r: interest rate\n",
        "    #sigma: volatility of underlying asset\n",
        "    \n",
        "    d1 = (np.log(S / K) + (r + 0.5 * sigma ** 2) * T) / (sigma * np.sqrt(T))\n",
        "    d2 = (np.log(S / K) + (r - 0.5 * sigma ** 2) * T) / (sigma * np.sqrt(T))\n",
        "    \n",
        "    test = si.norm.cdf(d1, 0.0, 1.0)\n",
        "    call = (S * si.norm.cdf(d1, 0.0, 1.0) - K * np.exp(-r * T) * si.norm.cdf(d2, 0.0, 1.0))\n",
        "    #print(test, call)\n",
        "    \n",
        "    return call"
      ],
      "execution_count": 0,
      "outputs": []
    },
    {
      "cell_type": "code",
      "metadata": {
        "id": "Rf0hzejOZ1p5",
        "colab_type": "code",
        "colab": {}
      },
      "source": [
        "def sample_data_call(n_samples=50000, mean=0, var=2, seq_length=10):\n",
        "\n",
        "    vectors = []\n",
        "    s0 = 10\n",
        "    k = 20\n",
        "    T = 1\n",
        "    r = 0.05\n",
        "    sigma = 0.25\n",
        "    \n",
        "    \n",
        "    for i in range(n_samples):\n",
        "        vectors.append([])\n",
        "        for j in range(seq_length):\n",
        "#             s = np.random.normal(mean, var)\n",
        "            s = s0 * np.exp((r - 0.5 * sigma**2)*T + sigma * np.sqrt(T) * np.random.normal(0, 1))\n",
        "            params = [s, k, T, r, sigma]\n",
        "            vectors[-1].append(euro_vanilla_call(*params))\n",
        "    \n",
        "    return np.asarray(vectors)"
      ],
      "execution_count": 0,
      "outputs": []
    },
    {
      "cell_type": "code",
      "metadata": {
        "id": "EsBgUGpzZ1p8",
        "colab_type": "code",
        "colab": {}
      },
      "source": [
        "samples = sample_data_call(seq_length=10)"
      ],
      "execution_count": 0,
      "outputs": []
    },
    {
      "cell_type": "code",
      "metadata": {
        "id": "NwiDtmJVZ1p-",
        "colab_type": "code",
        "colab": {}
      },
      "source": [
        "gan = WGAN(num_epochs=10, seq_length=10)"
      ],
      "execution_count": 0,
      "outputs": []
    },
    {
      "cell_type": "code",
      "metadata": {
        "id": "vmqOL3gF1kLo",
        "colab_type": "code",
        "colab": {
          "base_uri": "https://localhost:8080/",
          "height": 357
        },
        "outputId": "41770689-9491-4d49-bcc2-405418114ad0"
      },
      "source": [
        "gen_samples10 = gan.train_loop(samples, reshape=True)"
      ],
      "execution_count": 34,
      "outputs": [
        {
          "output_type": "stream",
          "text": [
            "epoch: 0 \tD_loss: 1.4383694 \tG_loss: 0.7452356 \tTotal_loss: 2.183605\n",
            "epoch: 0 \tD_loss: 1.4283713 \tG_loss: 0.73524666 \tTotal_loss: 2.163618\n",
            "epoch: 1 \tD_loss: 1.4200524 \tG_loss: 0.72693145 \tTotal_loss: 2.1469839\n",
            "epoch: 1 \tD_loss: 1.4108148 \tG_loss: 0.7176558 \tTotal_loss: 2.1284704\n",
            "epoch: 2 \tD_loss: 1.4046183 \tG_loss: 0.7114592 \tTotal_loss: 2.1160774\n",
            "epoch: 2 \tD_loss: 1.3980446 \tG_loss: 0.70488584 \tTotal_loss: 2.1029305\n",
            "epoch: 3 \tD_loss: 1.3939339 \tG_loss: 0.70077485 \tTotal_loss: 2.0947087\n",
            "epoch: 3 \tD_loss: 1.3900057 \tG_loss: 0.69684666 \tTotal_loss: 2.0868523\n",
            "epoch: 4 \tD_loss: 1.3879455 \tG_loss: 0.6947864 \tTotal_loss: 2.082732\n",
            "epoch: 4 \tD_loss: 1.3866268 \tG_loss: 0.69346786 \tTotal_loss: 2.0800948\n",
            "epoch: 5 \tD_loss: 1.3864393 \tG_loss: 0.6932806 \tTotal_loss: 2.07972\n",
            "epoch: 5 \tD_loss: 1.3863983 \tG_loss: 0.6932393 \tTotal_loss: 2.0796375\n",
            "epoch: 6 \tD_loss: 1.386378 \tG_loss: 0.69321924 \tTotal_loss: 2.0795972\n",
            "epoch: 6 \tD_loss: 1.3863583 \tG_loss: 0.6931992 \tTotal_loss: 2.0795574\n",
            "epoch: 7 \tD_loss: 1.3863477 \tG_loss: 0.69318867 \tTotal_loss: 2.0795364\n",
            "epoch: 7 \tD_loss: 1.386339 \tG_loss: 0.69317997 \tTotal_loss: 2.0795188\n",
            "epoch: 8 \tD_loss: 1.3863367 \tG_loss: 0.6931779 \tTotal_loss: 2.0795145\n",
            "epoch: 8 \tD_loss: 1.3863369 \tG_loss: 0.6931779 \tTotal_loss: 2.0795147\n",
            "epoch: 9 \tD_loss: 1.3863369 \tG_loss: 0.6931779 \tTotal_loss: 2.0795147\n",
            "epoch: 9 \tD_loss: 1.3863369 \tG_loss: 0.6931779 \tTotal_loss: 2.0795147\n"
          ],
          "name": "stdout"
        }
      ]
    },
    {
      "cell_type": "code",
      "metadata": {
        "id": "1NNTkWn_Z1p_",
        "colab_type": "code",
        "colab": {
          "base_uri": "https://localhost:8080/",
          "height": 300
        },
        "outputId": "ea03ce51-2608-43b7-b886-c14739f0b70a"
      },
      "source": [
        "plt.plot(gan.g_loss[:4000])\n",
        "plt.plot(gan.d_loss[:4000])\n",
        "plt.legend(['generator loss', 'discriminator loss'])\n",
        "plt.xlabel('number of iteration')\n",
        "plt.ylabel('loss')"
      ],
      "execution_count": 35,
      "outputs": [
        {
          "output_type": "execute_result",
          "data": {
            "text/plain": [
              "Text(0, 0.5, 'loss')"
            ]
          },
          "metadata": {
            "tags": []
          },
          "execution_count": 35
        },
        {
          "output_type": "display_data",
          "data": {
            "image/png": "[encoded data removed]",
            "text/plain": [
              "<Figure size 432x288 with 1 Axes>"
            ]
          },
          "metadata": {
            "tags": []
          }
        }
      ]
    },
    {
      "cell_type": "code",
      "metadata": {
        "id": "PsN33p6IZ1qB",
        "colab_type": "code",
        "colab": {},
        "outputId": "4243d682-0bfe-46af-c1d9-f098426cda72"
      },
      "source": [
        "gen_samples = gan.train_loop(samples, reshape=True)"
      ],
      "execution_count": 0,
      "outputs": [
        {
          "output_type": "stream",
          "text": [
            "epoch: 0 \tD_loss: 1.522972 \tG_loss: 0.8348051 \tTotal_loss: 2.357777\n",
            "epoch: 0 \tD_loss: 1.5172212 \tG_loss: 0.8112381 \tTotal_loss: 2.3284593\n",
            "epoch: 1 \tD_loss: 1.4884553 \tG_loss: 0.7982702 \tTotal_loss: 2.2867255\n",
            "epoch: 1 \tD_loss: 1.4610885 \tG_loss: 0.7679684 \tTotal_loss: 2.2290568\n",
            "epoch: 2 \tD_loss: 1.4437063 \tG_loss: 0.75058615 \tTotal_loss: 2.1942925\n",
            "epoch: 2 \tD_loss: 1.4250491 \tG_loss: 0.7319288 \tTotal_loss: 2.156978\n",
            "epoch: 3 \tD_loss: 1.4131266 \tG_loss: 0.7200064 \tTotal_loss: 2.133133\n",
            "epoch: 3 \tD_loss: 1.4013833 \tG_loss: 0.70826304 \tTotal_loss: 2.1096463\n",
            "epoch: 4 \tD_loss: 1.394888 \tG_loss: 0.70176786 \tTotal_loss: 2.0966558\n",
            "epoch: 4 \tD_loss: 1.3900785 \tG_loss: 0.69695836 \tTotal_loss: 2.0870368\n",
            "epoch: 5 \tD_loss: 1.3888935 \tG_loss: 0.69577336 \tTotal_loss: 2.0846667\n",
            "epoch: 5 \tD_loss: 1.38872 \tG_loss: 0.6955999 \tTotal_loss: 2.08432\n",
            "epoch: 6 \tD_loss: 1.3886892 \tG_loss: 0.695569 \tTotal_loss: 2.084258\n",
            "epoch: 6 \tD_loss: 1.3886502 \tG_loss: 0.69553 \tTotal_loss: 2.08418\n",
            "epoch: 7 \tD_loss: 1.3886198 \tG_loss: 0.6954996 \tTotal_loss: 2.0841193\n",
            "epoch: 7 \tD_loss: 1.3885809 \tG_loss: 0.6954607 \tTotal_loss: 2.0840416\n",
            "epoch: 8 \tD_loss: 1.3885504 \tG_loss: 0.6954303 \tTotal_loss: 2.0839806\n",
            "epoch: 8 \tD_loss: 1.388512 \tG_loss: 0.69539183 \tTotal_loss: 2.0839038\n",
            "epoch: 9 \tD_loss: 1.3884823 \tG_loss: 0.69536215 \tTotal_loss: 2.0838444\n",
            "epoch: 9 \tD_loss: 1.3884451 \tG_loss: 0.69532496 \tTotal_loss: 2.08377\n"
          ],
          "name": "stdout"
        }
      ]
    },
    {
      "cell_type": "code",
      "metadata": {
        "id": "T5NXBhbMZ1qd",
        "colab_type": "code",
        "colab": {}
      },
      "source": [
        "from scipy import stats"
      ],
      "execution_count": 0,
      "outputs": []
    },
    {
      "cell_type": "markdown",
      "metadata": {
        "id": "exqeq5JfZ1qe",
        "colab_type": "text"
      },
      "source": [
        "### lognormal testing"
      ]
    },
    {
      "cell_type": "code",
      "metadata": {
        "id": "frUWrujfZ1qf",
        "colab_type": "code",
        "colab": {}
      },
      "source": [
        "reshaped = gen_samples10.reshape(49980, 10)\n",
        "tests = [stats.kstest(reshaped[-i], 'lognorm', stats.lognorm.fit(reshaped[-i])) for i in range(100)]"
      ],
      "execution_count": 0,
      "outputs": []
    },
    {
      "cell_type": "code",
      "metadata": {
        "id": "JYT3nmI4Z1qy",
        "colab_type": "code",
        "colab": {
          "base_uri": "https://localhost:8080/",
          "height": 34
        },
        "outputId": "0d5c9aa3-4929-4647-989c-3bae3b0389df"
      },
      "source": [
        "print(\"D:\", np.mean([x[0] for x in tests]), \"p_value: \", np.mean([x[1] for x in tests]))"
      ],
      "execution_count": 40,
      "outputs": [
        {
          "output_type": "stream",
          "text": [
            "D: 0.23112927795319935 p_value:  0.5959464636373274\n"
          ],
          "name": "stdout"
        }
      ]
    },
    {
      "cell_type": "code",
      "metadata": {
        "id": "WHhO79n_g4VI",
        "colab_type": "code",
        "colab": {}
      },
      "source": [
        ""
      ],
      "execution_count": 0,
      "outputs": []
    }
  ]
}