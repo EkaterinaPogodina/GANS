{
 "cells": [
  {
   "cell_type": "code",
   "execution_count": 3,
   "metadata": {},
   "outputs": [],
   "source": [
    "import numpy as np\n",
    "from pandas_datareader import data \n",
    "apple = data.DataReader('AFI.AX', 'yahoo', start='1/1/2010', end= '1/10/2015')\n",
    "apple['Returns'] = apple['Adj Close'].pct_change()\n",
    "mu = apple['Returns'].mean()\n",
    "std = apple['Returns'].std()\n",
    "\n",
    "def sample_data(n_samples=50000, seq_length=10):\n",
    "\n",
    "    vectors = []\n",
    "\n",
    "    for i in range(n_samples):\n",
    "        daily_returns=np.random.normal(mu, std, seq_length)\n",
    "        vectors.append(daily_returns)\n",
    "    \n",
    "    return np.asarray(vectors)"
   ]
  },
  {
   "cell_type": "code",
   "execution_count": 5,
   "metadata": {},
   "outputs": [
    {
     "name": "stderr",
     "output_type": "stream",
     "text": [
      "W0831 13:57:17.688467 4628506048 deprecation_wrapper.py:119] From /Users/ekaterinapogodina/venv3.7/lib/python3.7/site-packages/keras/backend/tensorflow_backend.py:4409: The name tf.random_normal is deprecated. Please use tf.random.normal instead.\n",
      "\n"
     ]
    },
    {
     "name": "stdout",
     "output_type": "stream",
     "text": [
      "(?, 32)\n",
      "Model: \"encoder\"\n",
      "__________________________________________________________________________________________________\n",
      "Layer (type)                    Output Shape         Param #     Connected to                     \n",
      "==================================================================================================\n",
      "encoder_input (InputLayer)      (None, 20)           0                                            \n",
      "__________________________________________________________________________________________________\n",
      "reshape_2 (Reshape)             (None, 20, 1)        0           encoder_input[0][0]              \n",
      "__________________________________________________________________________________________________\n",
      "lstm_3 (LSTM)                   (None, 32)           4352        reshape_2[0][0]                  \n",
      "__________________________________________________________________________________________________\n",
      "z_mean (Dense)                  (None, 2)            66          lstm_3[0][0]                     \n",
      "__________________________________________________________________________________________________\n",
      "z_log_var (Dense)               (None, 2)            66          lstm_3[0][0]                     \n",
      "__________________________________________________________________________________________________\n",
      "z (Lambda)                      (None, 2)            0           z_mean[0][0]                     \n",
      "                                                                 z_log_var[0][0]                  \n",
      "==================================================================================================\n",
      "Total params: 4,484\n",
      "Trainable params: 4,484\n",
      "Non-trainable params: 0\n",
      "__________________________________________________________________________________________________\n",
      "Model: \"decoder\"\n",
      "_________________________________________________________________\n",
      "Layer (type)                 Output Shape              Param #   \n",
      "=================================================================\n",
      "z_sampling (InputLayer)      (None, 2)                 0         \n",
      "_________________________________________________________________\n",
      "dense_1 (Dense)              (None, 32)                96        \n",
      "_________________________________________________________________\n",
      "dense_2 (Dense)              (None, 20)                660       \n",
      "=================================================================\n",
      "Total params: 756\n",
      "Trainable params: 756\n",
      "Non-trainable params: 0\n",
      "_________________________________________________________________\n"
     ]
    }
   ],
   "source": [
    "from __future__ import absolute_import\n",
    "from __future__ import division\n",
    "from __future__ import print_function\n",
    "\n",
    "from keras.layers import Lambda, Input, Dense, Conv1D, Reshape, LSTM\n",
    "from keras.models import Model\n",
    "from keras.datasets import mnist\n",
    "from keras.losses import mse, binary_crossentropy\n",
    "from keras.utils import plot_model\n",
    "from keras import backend as K\n",
    "\n",
    "import numpy as np\n",
    "import matplotlib.pyplot as plt\n",
    "import argparse\n",
    "import os\n",
    "\n",
    "\n",
    "# reparameterization trick\n",
    "# instead of sampling from Q(z|X), sample eps = N(0,I)\n",
    "# z = z_mean + sqrt(var)*eps\n",
    "def sampling(args):\n",
    "    \"\"\"Reparameterization trick by sampling fr an isotropic unit Gaussian.\n",
    "\n",
    "    # Arguments\n",
    "        args (tensor): mean and log of variance of Q(z|X)\n",
    "\n",
    "    # Returns\n",
    "        z (tensor): sampled latent vector\n",
    "    \"\"\"\n",
    "\n",
    "    z_mean, z_log_var = args\n",
    "    batch = K.shape(z_mean)[0]\n",
    "    dim = K.int_shape(z_mean)[1]\n",
    "    # by default, random_normal has mean=0 and std=1.0\n",
    "    epsilon = K.random_normal(shape=(batch, dim))\n",
    "    return z_mean + K.exp(0.5 * z_log_var) * epsilon\n",
    "\n",
    "\n",
    "# MNIST dataset\n",
    "\n",
    "x_train = sample_data(seq_length=20)\n",
    "#x_train = x_train.reshape(50000, 20, 1)\n",
    "original_dim = x_train.shape[1]\n",
    "\n",
    "# network parameters\n",
    "input_shape = (original_dim, )\n",
    "intermediate_dim = 32\n",
    "batch_size = 128\n",
    "latent_dim = 2\n",
    "epochs = 50\n",
    "\n",
    "# VAE model = encoder + decoder\n",
    "# build encoder model\n",
    "inputs = Input(shape=input_shape, name='encoder_input')\n",
    "inputs2 = Reshape((original_dim, 1))(inputs)\n",
    "x = LSTM(intermediate_dim)(inputs2)\n",
    "z_mean = Dense(latent_dim, name='z_mean')(x)\n",
    "z_log_var = Dense(latent_dim, name='z_log_var')(x)\n",
    "# #print(x.shape, y.shape)\n",
    "\n",
    "\n",
    "# use reparameterization trick to push the sampling out as input\n",
    "# note that \"output_shape\" isn't necessary with the TensorFlow backend\n",
    "z = Lambda(sampling, output_shape=(latent_dim, ), name='z')([z_mean, z_log_var])\n",
    "\n",
    "# instantiate encoder model\n",
    "encoder = Model(inputs, [z_mean, z_log_var, z], name='encoder')\n",
    "encoder.summary()\n",
    "#plot_model(encoder, to_file='vae_mlp_encoder.png', show_shapes=True)\n",
    "\n",
    "# build decoder model\n",
    "latent_inputs = Input(shape=(latent_dim,), name='z_sampling')\n",
    "x = Dense(intermediate_dim, activation='relu')(latent_inputs)\n",
    "outputs = Dense(original_dim, activation='sigmoid')(x)\n",
    "\n",
    "# instantiate decoder model\n",
    "decoder = Model(latent_inputs, outputs, name='decoder')\n",
    "decoder.summary()\n",
    "#plot_model(decoder, to_file='vae_mlp_decoder.png', show_shapes=True)\n",
    "\n",
    "# instantiate VAE model\n",
    "outputs = decoder(encoder(inputs)[2])\n",
    "vae = Model(inputs, outputs, name='vae_mlp')"
   ]
  },
  {
   "cell_type": "code",
   "execution_count": 6,
   "metadata": {},
   "outputs": [
    {
     "name": "stderr",
     "output_type": "stream",
     "text": [
      "W0831 13:57:22.228561 4628506048 deprecation_wrapper.py:119] From /Users/ekaterinapogodina/venv3.7/lib/python3.7/site-packages/keras/optimizers.py:793: The name tf.train.Optimizer is deprecated. Please use tf.compat.v1.train.Optimizer instead.\n",
      "\n"
     ]
    },
    {
     "name": "stdout",
     "output_type": "stream",
     "text": [
      "Model: \"vae_mlp\"\n",
      "_________________________________________________________________\n",
      "Layer (type)                 Output Shape              Param #   \n",
      "=================================================================\n",
      "encoder_input (InputLayer)   (None, 20)                0         \n",
      "_________________________________________________________________\n",
      "encoder (Model)              [(None, 2), (None, 2), (N 4484      \n",
      "_________________________________________________________________\n",
      "decoder (Model)              (None, 20)                756       \n",
      "=================================================================\n",
      "Total params: 5,240\n",
      "Trainable params: 5,240\n",
      "Non-trainable params: 0\n",
      "_________________________________________________________________\n"
     ]
    }
   ],
   "source": [
    "models = (encoder, decoder)\n",
    "reconstruction_loss = mse(inputs, outputs)\n",
    "reconstruction_loss *= original_dim\n",
    "kl_loss = 1 + z_log_var - K.square(z_mean) - K.exp(z_log_var)\n",
    "kl_loss = K.sum(kl_loss, axis=-1)\n",
    "kl_loss *= -0.5\n",
    "vae_loss = K.mean(reconstruction_loss + kl_loss)\n",
    "vae.add_loss(vae_loss)\n",
    "vae.compile(optimizer='adam')\n",
    "vae.summary()"
   ]
  },
  {
   "cell_type": "code",
   "execution_count": 7,
   "metadata": {},
   "outputs": [],
   "source": [
    "x_test = sample_data(10000, seq_length=20)\n",
    "#x_test = x_test.reshape(10000, 20, 1)"
   ]
  },
  {
   "cell_type": "code",
   "execution_count": 8,
   "metadata": {},
   "outputs": [
    {
     "data": {
      "text/plain": [
       "((10000, 20), (50000, 20))"
      ]
     },
     "execution_count": 8,
     "metadata": {},
     "output_type": "execute_result"
    }
   ],
   "source": [
    "x_test.shape, x_train.shape"
   ]
  },
  {
   "cell_type": "code",
   "execution_count": 9,
   "metadata": {},
   "outputs": [
    {
     "name": "stderr",
     "output_type": "stream",
     "text": [
      "W0831 13:57:27.805227 4628506048 deprecation.py:323] From /Users/ekaterinapogodina/venv3.7/lib/python3.7/site-packages/tensorflow/python/ops/math_grad.py:1250: add_dispatch_support.<locals>.wrapper (from tensorflow.python.ops.array_ops) is deprecated and will be removed in a future version.\n",
      "Instructions for updating:\n",
      "Use tf.where in 2.0, which has the same broadcast rule as np.where\n",
      "W0831 13:57:29.061381 4628506048 deprecation_wrapper.py:119] From /Users/ekaterinapogodina/venv3.7/lib/python3.7/site-packages/keras/backend/tensorflow_backend.py:1033: The name tf.assign_add is deprecated. Please use tf.compat.v1.assign_add instead.\n",
      "\n"
     ]
    },
    {
     "name": "stdout",
     "output_type": "stream",
     "text": [
      "Train on 50000 samples, validate on 10000 samples\n",
      "Epoch 1/50\n",
      "50000/50000 [==============================] - 12s 240us/step - loss: 1.3585 - val_loss: 0.2290\n",
      "Epoch 2/50\n",
      "50000/50000 [==============================] - 10s 209us/step - loss: 0.1860 - val_loss: 0.1690\n",
      "Epoch 3/50\n",
      "50000/50000 [==============================] - 10s 210us/step - loss: 0.1641 - val_loss: 0.1614\n",
      "Epoch 4/50\n",
      "50000/50000 [==============================] - 10s 208us/step - loss: 0.1601 - val_loss: 0.1593\n",
      "Epoch 5/50\n",
      "50000/50000 [==============================] - 10s 207us/step - loss: 0.1587 - val_loss: 0.1584\n",
      "Epoch 6/50\n",
      "50000/50000 [==============================] - 12s 238us/step - loss: 0.1581 - val_loss: 0.1581\n",
      "Epoch 7/50\n",
      "50000/50000 [==============================] - 11s 215us/step - loss: 0.1578 - val_loss: 0.1578\n",
      "Epoch 8/50\n",
      "50000/50000 [==============================] - 13s 260us/step - loss: 0.1576 - val_loss: 0.1577\n",
      "Epoch 9/50\n",
      "50000/50000 [==============================] - 11s 220us/step - loss: 0.1575 - val_loss: 0.1577\n",
      "Epoch 10/50\n",
      "50000/50000 [==============================] - 12s 236us/step - loss: 0.1575 - val_loss: 0.1576\n",
      "Epoch 11/50\n",
      "50000/50000 [==============================] - 10s 205us/step - loss: 0.1574 - val_loss: 0.1575\n",
      "Epoch 12/50\n",
      "50000/50000 [==============================] - 10s 198us/step - loss: 0.1574 - val_loss: 0.1575\n",
      "Epoch 13/50\n",
      "50000/50000 [==============================] - 12s 232us/step - loss: 0.1574 - val_loss: 0.1575\n",
      "Epoch 14/50\n",
      "50000/50000 [==============================] - 12s 244us/step - loss: 0.1574 - val_loss: 0.1575\n",
      "Epoch 15/50\n",
      "50000/50000 [==============================] - 11s 214us/step - loss: 0.1574 - val_loss: 0.1575\n",
      "Epoch 16/50\n",
      "50000/50000 [==============================] - 11s 214us/step - loss: 0.1574 - val_loss: 0.1575\n",
      "Epoch 17/50\n",
      "50000/50000 [==============================] - 11s 217us/step - loss: 0.1574 - val_loss: 0.1575\n",
      "Epoch 18/50\n",
      "50000/50000 [==============================] - 11s 221us/step - loss: 0.1574 - val_loss: 0.1575\n",
      "Epoch 19/50\n",
      "50000/50000 [==============================] - 11s 222us/step - loss: 0.1574 - val_loss: 0.1575\n",
      "Epoch 20/50\n",
      "50000/50000 [==============================] - 11s 224us/step - loss: 0.1574 - val_loss: 0.1575\n",
      "Epoch 21/50\n",
      "50000/50000 [==============================] - 11s 224us/step - loss: 0.1574 - val_loss: 0.1575\n",
      "Epoch 22/50\n",
      "50000/50000 [==============================] - 11s 223us/step - loss: 0.1574 - val_loss: 0.1575\n",
      "Epoch 23/50\n",
      "50000/50000 [==============================] - 11s 220us/step - loss: 0.1574 - val_loss: 0.1575\n",
      "Epoch 24/50\n",
      "50000/50000 [==============================] - 11s 225us/step - loss: 0.1574 - val_loss: 0.1575\n",
      "Epoch 25/50\n",
      "50000/50000 [==============================] - 11s 224us/step - loss: 0.1574 - val_loss: 0.1575\n",
      "Epoch 26/50\n",
      "50000/50000 [==============================] - 11s 228us/step - loss: 0.1574 - val_loss: 0.1575\n",
      "Epoch 27/50\n",
      "50000/50000 [==============================] - 11s 226us/step - loss: 0.1574 - val_loss: 0.1575\n",
      "Epoch 28/50\n",
      "50000/50000 [==============================] - 11s 228us/step - loss: 0.1573 - val_loss: 0.1575\n",
      "Epoch 29/50\n",
      "50000/50000 [==============================] - 11s 226us/step - loss: 0.1574 - val_loss: 0.1575\n",
      "Epoch 30/50\n",
      "50000/50000 [==============================] - 11s 229us/step - loss: 0.1573 - val_loss: 0.1574\n",
      "Epoch 31/50\n",
      "50000/50000 [==============================] - 11s 224us/step - loss: 0.1573 - val_loss: 0.1575\n",
      "Epoch 32/50\n",
      "50000/50000 [==============================] - 11s 223us/step - loss: 0.1573 - val_loss: 0.1575\n",
      "Epoch 33/50\n",
      "50000/50000 [==============================] - 11s 213us/step - loss: 0.1573 - val_loss: 0.1574\n",
      "Epoch 34/50\n",
      "50000/50000 [==============================] - 10s 209us/step - loss: 0.1573 - val_loss: 0.1575\n",
      "Epoch 35/50\n",
      "50000/50000 [==============================] - 10s 210us/step - loss: 0.1573 - val_loss: 0.1574\n",
      "Epoch 36/50\n",
      "50000/50000 [==============================] - 11s 213us/step - loss: 0.1573 - val_loss: 0.1574\n",
      "Epoch 37/50\n",
      "50000/50000 [==============================] - 11s 213us/step - loss: 0.1573 - val_loss: 0.1574\n",
      "Epoch 38/50\n",
      "50000/50000 [==============================] - 11s 215us/step - loss: 0.1573 - val_loss: 0.1574\n",
      "Epoch 39/50\n",
      "50000/50000 [==============================] - 11s 216us/step - loss: 0.1573 - val_loss: 0.1574\n",
      "Epoch 40/50\n",
      "50000/50000 [==============================] - 11s 225us/step - loss: 0.1573 - val_loss: 0.1574\n",
      "Epoch 41/50\n",
      "50000/50000 [==============================] - 12s 230us/step - loss: 0.1573 - val_loss: 0.1574\n",
      "Epoch 42/50\n",
      "50000/50000 [==============================] - 12s 239us/step - loss: 0.1573 - val_loss: 0.1574\n",
      "Epoch 43/50\n",
      "50000/50000 [==============================] - 11s 230us/step - loss: 0.1573 - val_loss: 0.1574\n",
      "Epoch 44/50\n",
      "50000/50000 [==============================] - 11s 224us/step - loss: 0.1573 - val_loss: 0.1574\n",
      "Epoch 45/50\n",
      "50000/50000 [==============================] - 11s 222us/step - loss: 0.1573 - val_loss: 0.1574\n",
      "Epoch 46/50\n",
      "50000/50000 [==============================] - 11s 226us/step - loss: 0.1573 - val_loss: 0.1574\n",
      "Epoch 47/50\n",
      "50000/50000 [==============================] - 11s 226us/step - loss: 0.1573 - val_loss: 0.1574\n",
      "Epoch 48/50\n",
      "50000/50000 [==============================] - 12s 231us/step - loss: 0.1573 - val_loss: 0.1574\n",
      "Epoch 49/50\n",
      "50000/50000 [==============================] - 12s 243us/step - loss: 0.1573 - val_loss: 0.1574\n",
      "Epoch 50/50\n",
      "50000/50000 [==============================] - 12s 232us/step - loss: 0.1573 - val_loss: 0.1574\n"
     ]
    },
    {
     "data": {
      "text/plain": [
       "<keras.callbacks.History at 0x135ce77b8>"
      ]
     },
     "execution_count": 9,
     "metadata": {},
     "output_type": "execute_result"
    }
   ],
   "source": [
    "vae.fit(x_train,\n",
    "        epochs=epochs,\n",
    "        batch_size=batch_size,\n",
    "        validation_data=(x_test, None))"
   ]
  },
  {
   "cell_type": "code",
   "execution_count": 10,
   "metadata": {},
   "outputs": [],
   "source": [
    "from tqdm import tqdm"
   ]
  },
  {
   "cell_type": "code",
   "execution_count": 11,
   "metadata": {},
   "outputs": [
    {
     "name": "stderr",
     "output_type": "stream",
     "text": [
      "100it [00:04, 21.81it/s]\n"
     ]
    }
   ],
   "source": [
    "grid_x = np.linspace(-2, 2, 100)\n",
    "grid_y = np.linspace(-2, 2, 100)[::-1]\n",
    "\n",
    "gen_data = []\n",
    "for i, yi in tqdm(enumerate(grid_y)):\n",
    "    for j, xi in enumerate(grid_x):\n",
    "        z_sample = np.array([[xi, yi]])\n",
    "        x_decoded = decoder.predict(z_sample)\n",
    "        gen_data.append(x_decoded[0])\n",
    "        #print(z_sample.shape)\n",
    "\n",
    "gen_data = np.array(gen_data)"
   ]
  },
  {
   "cell_type": "code",
   "execution_count": 12,
   "metadata": {},
   "outputs": [],
   "source": [
    "ids = np.random.choice(10000, 100)"
   ]
  },
  {
   "cell_type": "code",
   "execution_count": 13,
   "metadata": {},
   "outputs": [],
   "source": [
    "def series_from_returns(start, returns):\n",
    "    res = [start]\n",
    "    for ret in returns:\n",
    "        res.append(res[-1]*ret + res[-1])\n",
    "    return res"
   ]
  },
  {
   "cell_type": "code",
   "execution_count": 14,
   "metadata": {},
   "outputs": [],
   "source": [
    "start = apple['Adj Close'][0]"
   ]
  },
  {
   "cell_type": "code",
   "execution_count": 15,
   "metadata": {},
   "outputs": [
    {
     "data": {
      "image/png": "[encoded data removed]",
      "text/plain": [
       "<Figure size 432x288 with 1 Axes>"
      ]
     },
     "metadata": {
      "needs_background": "light"
     },
     "output_type": "display_data"
    }
   ],
   "source": [
    "start = apple['Adj Close'][0]\n",
    "for sample in gen_data[ids]:\n",
    "    plt.plot(series_from_returns(start, sample))"
   ]
  },
  {
   "cell_type": "code",
   "execution_count": 16,
   "metadata": {},
   "outputs": [
    {
     "data": {
      "text/plain": [
       "(0.0035726056, 0.000559398)"
      ]
     },
     "execution_count": 16,
     "metadata": {},
     "output_type": "execute_result"
    }
   ],
   "source": [
    "np.mean(gen_data), np.std(gen_data)"
   ]
  },
  {
   "cell_type": "code",
   "execution_count": 17,
   "metadata": {},
   "outputs": [
    {
     "data": {
      "text/plain": [
       "(0.0037963417386169137, 0.08856171691949072)"
      ]
     },
     "execution_count": 17,
     "metadata": {},
     "output_type": "execute_result"
    }
   ],
   "source": [
    "np.mean(samples), np.std(samples)"
   ]
  },
  {
   "cell_type": "code",
   "execution_count": 18,
   "metadata": {},
   "outputs": [
    {
     "name": "stdout",
     "output_type": "stream",
     "text": [
      "Mean p_value 0.33963717692282286\n"
     ]
    }
   ],
   "source": [
    "from scipy import stats\n",
    "p_value = np.mean([stats.normaltest(gen_data[i]).pvalue for i in ids])\n",
    "print(\"Mean p_value\", p_value)"
   ]
  },
  {
   "cell_type": "code",
   "execution_count": 19,
   "metadata": {},
   "outputs": [],
   "source": [
    "mu = apple['Adj Close'].mean()\n",
    "std = apple['Adj Close'].std()"
   ]
  },
  {
   "cell_type": "markdown",
   "metadata": {},
   "source": [
    "# More Layers"
   ]
  },
  {
   "cell_type": "code",
   "execution_count": 4,
   "metadata": {},
   "outputs": [
    {
     "name": "stderr",
     "output_type": "stream",
     "text": [
      "WARNING: Logging before flag parsing goes to stderr.\n",
      "W0901 09:17:28.354603 4521981376 deprecation_wrapper.py:119] From /Users/ekaterinapogodina/venv3.7/lib/python3.7/site-packages/keras/backend/tensorflow_backend.py:541: The name tf.placeholder is deprecated. Please use tf.compat.v1.placeholder instead.\n",
      "\n",
      "W0901 09:17:28.374628 4521981376 deprecation_wrapper.py:119] From /Users/ekaterinapogodina/venv3.7/lib/python3.7/site-packages/keras/backend/tensorflow_backend.py:66: The name tf.get_default_graph is deprecated. Please use tf.compat.v1.get_default_graph instead.\n",
      "\n",
      "W0901 09:17:28.394067 4521981376 deprecation_wrapper.py:119] From /Users/ekaterinapogodina/venv3.7/lib/python3.7/site-packages/keras/backend/tensorflow_backend.py:4432: The name tf.random_uniform is deprecated. Please use tf.random.uniform instead.\n",
      "\n",
      "W0901 09:17:28.693112 4521981376 deprecation_wrapper.py:119] From /Users/ekaterinapogodina/venv3.7/lib/python3.7/site-packages/keras/backend/tensorflow_backend.py:4409: The name tf.random_normal is deprecated. Please use tf.random.normal instead.\n",
      "\n"
     ]
    },
    {
     "name": "stdout",
     "output_type": "stream",
     "text": [
      "Model: \"encoder\"\n",
      "__________________________________________________________________________________________________\n",
      "Layer (type)                    Output Shape         Param #     Connected to                     \n",
      "==================================================================================================\n",
      "encoder_input (InputLayer)      (None, 20)           0                                            \n",
      "__________________________________________________________________________________________________\n",
      "reshape_1 (Reshape)             (None, 20, 1)        0           encoder_input[0][0]              \n",
      "__________________________________________________________________________________________________\n",
      "lstm_1 (LSTM)                   (None, 32)           4352        reshape_1[0][0]                  \n",
      "__________________________________________________________________________________________________\n",
      "z_mean (Dense)                  (None, 2)            66          lstm_1[0][0]                     \n",
      "__________________________________________________________________________________________________\n",
      "z_log_var (Dense)               (None, 2)            66          lstm_1[0][0]                     \n",
      "__________________________________________________________________________________________________\n",
      "z (Lambda)                      (None, 2)            0           z_mean[0][0]                     \n",
      "                                                                 z_log_var[0][0]                  \n",
      "==================================================================================================\n",
      "Total params: 4,484\n",
      "Trainable params: 4,484\n",
      "Non-trainable params: 0\n",
      "__________________________________________________________________________________________________\n",
      "Model: \"decoder\"\n",
      "_________________________________________________________________\n",
      "Layer (type)                 Output Shape              Param #   \n",
      "=================================================================\n",
      "z_sampling (InputLayer)      (None, 2)                 0         \n",
      "_________________________________________________________________\n",
      "reshape_2 (Reshape)          (None, 2, 1)              0         \n",
      "_________________________________________________________________\n",
      "dense_1 (Dense)              (None, 2, 32)             64        \n",
      "_________________________________________________________________\n",
      "lstm_2 (LSTM)                (None, 32)                8320      \n",
      "_________________________________________________________________\n",
      "dense_2 (Dense)              (None, 20)                660       \n",
      "=================================================================\n",
      "Total params: 9,044\n",
      "Trainable params: 9,044\n",
      "Non-trainable params: 0\n",
      "_________________________________________________________________\n"
     ]
    }
   ],
   "source": [
    "from __future__ import absolute_import\n",
    "from __future__ import division\n",
    "from __future__ import print_function\n",
    "\n",
    "from keras.layers import Lambda, Input, Dense, Conv1D, Reshape, LSTM\n",
    "from keras.models import Model\n",
    "from keras.datasets import mnist\n",
    "from keras.losses import mse, binary_crossentropy\n",
    "from keras.utils import plot_model\n",
    "from keras import backend as K\n",
    "\n",
    "import numpy as np\n",
    "import matplotlib.pyplot as plt\n",
    "import argparse\n",
    "import os\n",
    "\n",
    "\n",
    "# reparameterization trick\n",
    "# instead of sampling from Q(z|X), sample eps = N(0,I)\n",
    "# z = z_mean + sqrt(var)*eps\n",
    "def sampling(args):\n",
    "    \"\"\"Reparameterization trick by sampling fr an isotropic unit Gaussian.\n",
    "\n",
    "    # Arguments\n",
    "        args (tensor): mean and log of variance of Q(z|X)\n",
    "\n",
    "    # Returns\n",
    "        z (tensor): sampled latent vector\n",
    "    \"\"\"\n",
    "\n",
    "    z_mean, z_log_var = args\n",
    "    batch = K.shape(z_mean)[0]\n",
    "    dim = K.int_shape(z_mean)[1]\n",
    "    # by default, random_normal has mean=0 and std=1.0\n",
    "    epsilon = K.random_normal(shape=(batch, dim))\n",
    "    return z_mean + K.exp(0.5 * z_log_var) * epsilon\n",
    "\n",
    "\n",
    "# MNIST dataset\n",
    "\n",
    "x_train = sample_data(seq_length=20)\n",
    "#x_train = x_train.reshape(50000, 20, 1)\n",
    "original_dim = x_train.shape[1]\n",
    "\n",
    "# network parameters\n",
    "input_shape = (original_dim, )\n",
    "intermediate_dim = 32\n",
    "batch_size = 128\n",
    "latent_dim = 2\n",
    "epochs = 50\n",
    "\n",
    "# VAE model = encoder + decoder\n",
    "# build encoder model\n",
    "inputs = Input(shape=input_shape, name='encoder_input')\n",
    "inputs2 = Reshape((original_dim, 1))(inputs)\n",
    "x = LSTM(intermediate_dim)(inputs2)\n",
    "z_mean = Dense(latent_dim, name='z_mean')(x)\n",
    "z_log_var = Dense(latent_dim, name='z_log_var')(x)\n",
    "# #print(x.shape, y.shape)\n",
    "\n",
    "\n",
    "# use reparameterization trick to push the sampling out as input\n",
    "# note that \"output_shape\" isn't necessary with the TensorFlow backend\n",
    "z = Lambda(sampling, output_shape=(latent_dim, ), name='z')([z_mean, z_log_var])\n",
    "\n",
    "# instantiate encoder model\n",
    "encoder = Model(inputs, [z_mean, z_log_var, z], name='encoder')\n",
    "encoder.summary()\n",
    "#plot_model(encoder, to_file='vae_mlp_encoder.png', show_shapes=True)\n",
    "\n",
    "# build decoder model\n",
    "latent_inputs = Input(shape=(latent_dim,), name='z_sampling')\n",
    "x = Reshape((latent_dim, 1))(latent_inputs)\n",
    "x = Dense(intermediate_dim, activation='relu')(x)\n",
    "x = LSTM(intermediate_dim)(x)\n",
    "outputs = Dense(original_dim, activation='sigmoid')(x)\n",
    "\n",
    "# instantiate decoder model\n",
    "decoder = Model(latent_inputs, outputs, name='decoder')\n",
    "decoder.summary()\n",
    "#plot_model(decoder, to_file='vae_mlp_decoder.png', show_shapes=True)\n",
    "\n",
    "# instantiate VAE model\n",
    "outputs = decoder(encoder(inputs)[2])\n",
    "vae = Model(inputs, outputs, name='vae_mlp')"
   ]
  },
  {
   "cell_type": "code",
   "execution_count": 5,
   "metadata": {},
   "outputs": [
    {
     "name": "stderr",
     "output_type": "stream",
     "text": [
      "W0901 09:17:31.178355 4521981376 deprecation_wrapper.py:119] From /Users/ekaterinapogodina/venv3.7/lib/python3.7/site-packages/keras/optimizers.py:793: The name tf.train.Optimizer is deprecated. Please use tf.compat.v1.train.Optimizer instead.\n",
      "\n"
     ]
    },
    {
     "name": "stdout",
     "output_type": "stream",
     "text": [
      "Model: \"vae_mlp\"\n",
      "_________________________________________________________________\n",
      "Layer (type)                 Output Shape              Param #   \n",
      "=================================================================\n",
      "encoder_input (InputLayer)   (None, 20)                0         \n",
      "_________________________________________________________________\n",
      "encoder (Model)              [(None, 2), (None, 2), (N 4484      \n",
      "_________________________________________________________________\n",
      "decoder (Model)              (None, 20)                9044      \n",
      "=================================================================\n",
      "Total params: 13,528\n",
      "Trainable params: 13,528\n",
      "Non-trainable params: 0\n",
      "_________________________________________________________________\n"
     ]
    }
   ],
   "source": [
    "models = (encoder, decoder)\n",
    "reconstruction_loss = mse(inputs, outputs)\n",
    "reconstruction_loss *= original_dim\n",
    "kl_loss = 1 + z_log_var - K.square(z_mean) - K.exp(z_log_var)\n",
    "kl_loss = K.sum(kl_loss, axis=-1)\n",
    "kl_loss *= -0.5\n",
    "vae_loss = K.mean(reconstruction_loss + kl_loss)\n",
    "vae.add_loss(vae_loss)\n",
    "vae.compile(optimizer='adam')\n",
    "vae.summary()"
   ]
  },
  {
   "cell_type": "code",
   "execution_count": 7,
   "metadata": {},
   "outputs": [
    {
     "name": "stderr",
     "output_type": "stream",
     "text": [
      "W0901 09:17:53.212276 4521981376 deprecation.py:323] From /Users/ekaterinapogodina/venv3.7/lib/python3.7/site-packages/tensorflow/python/ops/math_grad.py:1250: add_dispatch_support.<locals>.wrapper (from tensorflow.python.ops.array_ops) is deprecated and will be removed in a future version.\n",
      "Instructions for updating:\n",
      "Use tf.where in 2.0, which has the same broadcast rule as np.where\n",
      "W0901 09:17:55.911144 4521981376 deprecation_wrapper.py:119] From /Users/ekaterinapogodina/venv3.7/lib/python3.7/site-packages/keras/backend/tensorflow_backend.py:1033: The name tf.assign_add is deprecated. Please use tf.compat.v1.assign_add instead.\n",
      "\n"
     ]
    },
    {
     "name": "stdout",
     "output_type": "stream",
     "text": [
      "Train on 50000 samples, validate on 10000 samples\n",
      "Epoch 1/20\n",
      "50000/50000 [==============================] - 15s 306us/step - loss: 0.8286 - val_loss: 0.1600\n",
      "Epoch 2/20\n",
      "50000/50000 [==============================] - 11s 224us/step - loss: 0.1588 - val_loss: 0.1580\n",
      "Epoch 3/20\n",
      "50000/50000 [==============================] - 13s 258us/step - loss: 0.1578 - val_loss: 0.1576\n",
      "Epoch 4/20\n",
      "50000/50000 [==============================] - 10s 200us/step - loss: 0.1575 - val_loss: 0.1575\n",
      "Epoch 5/20\n",
      "50000/50000 [==============================] - 10s 198us/step - loss: 0.1574 - val_loss: 0.1574\n",
      "Epoch 6/20\n",
      "50000/50000 [==============================] - 10s 201us/step - loss: 0.1574 - val_loss: 0.1574\n",
      "Epoch 7/20\n",
      "50000/50000 [==============================] - 10s 202us/step - loss: 0.1573 - val_loss: 0.1574\n",
      "Epoch 8/20\n",
      "50000/50000 [==============================] - 10s 202us/step - loss: 0.1573 - val_loss: 0.1573\n",
      "Epoch 9/20\n",
      "50000/50000 [==============================] - 10s 204us/step - loss: 0.1573 - val_loss: 0.1573\n",
      "Epoch 10/20\n",
      "50000/50000 [==============================] - 10s 204us/step - loss: 0.1573 - val_loss: 0.1573\n",
      "Epoch 11/20\n",
      "50000/50000 [==============================] - 10s 206us/step - loss: 0.1573 - val_loss: 0.1574\n",
      "Epoch 12/20\n",
      "50000/50000 [==============================] - 10s 206us/step - loss: 0.1573 - val_loss: 0.1573\n",
      "Epoch 13/20\n",
      "50000/50000 [==============================] - 10s 209us/step - loss: 0.1573 - val_loss: 0.1573\n",
      "Epoch 14/20\n",
      "50000/50000 [==============================] - 11s 212us/step - loss: 0.1573 - val_loss: 0.1573\n",
      "Epoch 15/20\n",
      "50000/50000 [==============================] - 11s 212us/step - loss: 0.1573 - val_loss: 0.1573\n",
      "Epoch 16/20\n",
      "50000/50000 [==============================] - 11s 213us/step - loss: 0.1573 - val_loss: 0.1573\n",
      "Epoch 17/20\n",
      "50000/50000 [==============================] - 11s 215us/step - loss: 0.1573 - val_loss: 0.1573\n",
      "Epoch 18/20\n",
      "50000/50000 [==============================] - 11s 222us/step - loss: 0.1573 - val_loss: 0.1574\n",
      "Epoch 19/20\n",
      "50000/50000 [==============================] - 10s 208us/step - loss: 0.1573 - val_loss: 0.1574\n",
      "Epoch 20/20\n",
      "50000/50000 [==============================] - 10s 210us/step - loss: 0.1573 - val_loss: 0.1573\n"
     ]
    },
    {
     "data": {
      "text/plain": [
       "<keras.callbacks.History at 0x12cbc3400>"
      ]
     },
     "execution_count": 7,
     "metadata": {},
     "output_type": "execute_result"
    }
   ],
   "source": [
    "x_test = sample_data(10000, seq_length=20)\n",
    "vae.fit(x_train,\n",
    "        epochs=20,\n",
    "        batch_size=batch_size,\n",
    "        validation_data=(x_test, None))"
   ]
  },
  {
   "cell_type": "code",
   "execution_count": 8,
   "metadata": {},
   "outputs": [
    {
     "name": "stderr",
     "output_type": "stream",
     "text": [
      "100it [00:09, 10.38it/s]\n"
     ]
    }
   ],
   "source": [
    "from tqdm import tqdm\n",
    "\n",
    "grid_x = np.linspace(-2, 2, 100)\n",
    "grid_y = np.linspace(-2, 2, 100)[::-1]\n",
    "\n",
    "gen_data = []\n",
    "for i, yi in tqdm(enumerate(grid_y)):\n",
    "    for j, xi in enumerate(grid_x):\n",
    "        z_sample = np.array([[xi, yi]])\n",
    "        x_decoded = decoder.predict(z_sample)\n",
    "        gen_data.append(x_decoded[0])\n",
    "        #print(z_sample.shape)\n",
    "\n",
    "gen_data = np.array(gen_data)"
   ]
  },
  {
   "cell_type": "code",
   "execution_count": 9,
   "metadata": {},
   "outputs": [],
   "source": [
    "ids = np.random.choice(10000, 100)\n",
    "def series_from_returns(start, returns):\n",
    "    res = [start]\n",
    "    for ret in returns:\n",
    "        res.append(res[-1]*ret + res[-1])\n",
    "    return res"
   ]
  },
  {
   "cell_type": "code",
   "execution_count": 10,
   "metadata": {},
   "outputs": [
    {
     "data": {
      "image/png": "[encoded data removed]",
      "text/plain": [
       "<Figure size 432x288 with 1 Axes>"
      ]
     },
     "metadata": {
      "needs_background": "light"
     },
     "output_type": "display_data"
    }
   ],
   "source": [
    "start = apple['Adj Close'][0]\n",
    "for sample in gen_data[ids]:\n",
    "    plt.plot(series_from_returns(start, sample))"
   ]
  },
  {
   "cell_type": "code",
   "execution_count": 11,
   "metadata": {},
   "outputs": [
    {
     "data": {
      "text/plain": [
       "(0.0034952224, 0.0006148129)"
      ]
     },
     "execution_count": 11,
     "metadata": {},
     "output_type": "execute_result"
    }
   ],
   "source": [
    "np.mean(gen_data), np.std(gen_data)"
   ]
  },
  {
   "cell_type": "code",
   "execution_count": 12,
   "metadata": {},
   "outputs": [
    {
     "name": "stdout",
     "output_type": "stream",
     "text": [
      "Mean p_value 0.3894552177653852\n"
     ]
    }
   ],
   "source": [
    "from scipy import stats\n",
    "p_value = np.mean([stats.normaltest(gen_data[i]).pvalue for i in ids])\n",
    "print(\"Mean p_value\", p_value)"
   ]
  },
  {
   "cell_type": "code",
   "execution_count": null,
   "metadata": {},
   "outputs": [],
   "source": []
  }
 ],
 "metadata": {
  "kernelspec": {
   "display_name": "Python 3",
   "language": "python",
   "name": "python3"
  },
  "language_info": {
   "codemirror_mode": {
    "name": "ipython",
    "version": 3
   },
   "file_extension": ".py",
   "mimetype": "text/x-python",
   "name": "python",
   "nbconvert_exporter": "python",
   "pygments_lexer": "ipython3",
   "version": "3.7.3"
  }
 },
 "nbformat": 4,
 "nbformat_minor": 2
}
